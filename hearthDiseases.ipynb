{
 "cells": [
  {
   "cell_type": "markdown",
   "metadata": {},
   "source": [
    "# Przewidywanie chorób serca\n"
   ]
  },
  {
   "cell_type": "markdown",
   "metadata": {},
   "source": [
    "### Przetwarzanie danych"
   ]
  },
  {
   "cell_type": "code",
   "execution_count": 2,
   "metadata": {},
   "outputs": [],
   "source": [
    "import pandas as pd\n",
    "import matplotlib.pyplot as plt\n",
    "import seaborn as sns\n",
    "import numpy as np"
   ]
  },
  {
   "cell_type": "code",
   "execution_count": 3,
   "metadata": {},
   "outputs": [
    {
     "data": {
      "text/html": [
       "<div>\n",
       "<style scoped>\n",
       "    .dataframe tbody tr th:only-of-type {\n",
       "        vertical-align: middle;\n",
       "    }\n",
       "\n",
       "    .dataframe tbody tr th {\n",
       "        vertical-align: top;\n",
       "    }\n",
       "\n",
       "    .dataframe thead th {\n",
       "        text-align: right;\n",
       "    }\n",
       "</style>\n",
       "<table border=\"1\" class=\"dataframe\">\n",
       "  <thead>\n",
       "    <tr style=\"text-align: right;\">\n",
       "      <th></th>\n",
       "      <th>age</th>\n",
       "      <th>sex</th>\n",
       "      <th>cp</th>\n",
       "      <th>trestbps</th>\n",
       "      <th>chol</th>\n",
       "      <th>fbs</th>\n",
       "      <th>restecg</th>\n",
       "      <th>thalach</th>\n",
       "      <th>exang</th>\n",
       "      <th>oldpeak</th>\n",
       "      <th>slope</th>\n",
       "      <th>ca</th>\n",
       "      <th>thal</th>\n",
       "      <th>target</th>\n",
       "    </tr>\n",
       "  </thead>\n",
       "  <tbody>\n",
       "    <tr>\n",
       "      <th>0</th>\n",
       "      <td>52</td>\n",
       "      <td>1</td>\n",
       "      <td>0</td>\n",
       "      <td>125</td>\n",
       "      <td>212</td>\n",
       "      <td>0</td>\n",
       "      <td>1</td>\n",
       "      <td>168</td>\n",
       "      <td>0</td>\n",
       "      <td>1.0</td>\n",
       "      <td>2</td>\n",
       "      <td>2</td>\n",
       "      <td>3</td>\n",
       "      <td>0</td>\n",
       "    </tr>\n",
       "    <tr>\n",
       "      <th>1</th>\n",
       "      <td>53</td>\n",
       "      <td>1</td>\n",
       "      <td>0</td>\n",
       "      <td>140</td>\n",
       "      <td>203</td>\n",
       "      <td>1</td>\n",
       "      <td>0</td>\n",
       "      <td>155</td>\n",
       "      <td>1</td>\n",
       "      <td>3.1</td>\n",
       "      <td>0</td>\n",
       "      <td>0</td>\n",
       "      <td>3</td>\n",
       "      <td>0</td>\n",
       "    </tr>\n",
       "    <tr>\n",
       "      <th>2</th>\n",
       "      <td>70</td>\n",
       "      <td>1</td>\n",
       "      <td>0</td>\n",
       "      <td>145</td>\n",
       "      <td>174</td>\n",
       "      <td>0</td>\n",
       "      <td>1</td>\n",
       "      <td>125</td>\n",
       "      <td>1</td>\n",
       "      <td>2.6</td>\n",
       "      <td>0</td>\n",
       "      <td>0</td>\n",
       "      <td>3</td>\n",
       "      <td>0</td>\n",
       "    </tr>\n",
       "    <tr>\n",
       "      <th>3</th>\n",
       "      <td>61</td>\n",
       "      <td>1</td>\n",
       "      <td>0</td>\n",
       "      <td>148</td>\n",
       "      <td>203</td>\n",
       "      <td>0</td>\n",
       "      <td>1</td>\n",
       "      <td>161</td>\n",
       "      <td>0</td>\n",
       "      <td>0.0</td>\n",
       "      <td>2</td>\n",
       "      <td>1</td>\n",
       "      <td>3</td>\n",
       "      <td>0</td>\n",
       "    </tr>\n",
       "    <tr>\n",
       "      <th>4</th>\n",
       "      <td>62</td>\n",
       "      <td>0</td>\n",
       "      <td>0</td>\n",
       "      <td>138</td>\n",
       "      <td>294</td>\n",
       "      <td>1</td>\n",
       "      <td>1</td>\n",
       "      <td>106</td>\n",
       "      <td>0</td>\n",
       "      <td>1.9</td>\n",
       "      <td>1</td>\n",
       "      <td>3</td>\n",
       "      <td>2</td>\n",
       "      <td>0</td>\n",
       "    </tr>\n",
       "    <tr>\n",
       "      <th>5</th>\n",
       "      <td>58</td>\n",
       "      <td>0</td>\n",
       "      <td>0</td>\n",
       "      <td>100</td>\n",
       "      <td>248</td>\n",
       "      <td>0</td>\n",
       "      <td>0</td>\n",
       "      <td>122</td>\n",
       "      <td>0</td>\n",
       "      <td>1.0</td>\n",
       "      <td>1</td>\n",
       "      <td>0</td>\n",
       "      <td>2</td>\n",
       "      <td>1</td>\n",
       "    </tr>\n",
       "    <tr>\n",
       "      <th>6</th>\n",
       "      <td>58</td>\n",
       "      <td>1</td>\n",
       "      <td>0</td>\n",
       "      <td>114</td>\n",
       "      <td>318</td>\n",
       "      <td>0</td>\n",
       "      <td>2</td>\n",
       "      <td>140</td>\n",
       "      <td>0</td>\n",
       "      <td>4.4</td>\n",
       "      <td>0</td>\n",
       "      <td>3</td>\n",
       "      <td>1</td>\n",
       "      <td>0</td>\n",
       "    </tr>\n",
       "    <tr>\n",
       "      <th>7</th>\n",
       "      <td>55</td>\n",
       "      <td>1</td>\n",
       "      <td>0</td>\n",
       "      <td>160</td>\n",
       "      <td>289</td>\n",
       "      <td>0</td>\n",
       "      <td>0</td>\n",
       "      <td>145</td>\n",
       "      <td>1</td>\n",
       "      <td>0.8</td>\n",
       "      <td>1</td>\n",
       "      <td>1</td>\n",
       "      <td>3</td>\n",
       "      <td>0</td>\n",
       "    </tr>\n",
       "    <tr>\n",
       "      <th>8</th>\n",
       "      <td>46</td>\n",
       "      <td>1</td>\n",
       "      <td>0</td>\n",
       "      <td>120</td>\n",
       "      <td>249</td>\n",
       "      <td>0</td>\n",
       "      <td>0</td>\n",
       "      <td>144</td>\n",
       "      <td>0</td>\n",
       "      <td>0.8</td>\n",
       "      <td>2</td>\n",
       "      <td>0</td>\n",
       "      <td>3</td>\n",
       "      <td>0</td>\n",
       "    </tr>\n",
       "    <tr>\n",
       "      <th>9</th>\n",
       "      <td>54</td>\n",
       "      <td>1</td>\n",
       "      <td>0</td>\n",
       "      <td>122</td>\n",
       "      <td>286</td>\n",
       "      <td>0</td>\n",
       "      <td>0</td>\n",
       "      <td>116</td>\n",
       "      <td>1</td>\n",
       "      <td>3.2</td>\n",
       "      <td>1</td>\n",
       "      <td>2</td>\n",
       "      <td>2</td>\n",
       "      <td>0</td>\n",
       "    </tr>\n",
       "  </tbody>\n",
       "</table>\n",
       "</div>"
      ],
      "text/plain": [
       "   age  sex  cp  trestbps  chol  fbs  restecg  thalach  exang  oldpeak  slope  \\\n",
       "0   52    1   0       125   212    0        1      168      0      1.0      2   \n",
       "1   53    1   0       140   203    1        0      155      1      3.1      0   \n",
       "2   70    1   0       145   174    0        1      125      1      2.6      0   \n",
       "3   61    1   0       148   203    0        1      161      0      0.0      2   \n",
       "4   62    0   0       138   294    1        1      106      0      1.9      1   \n",
       "5   58    0   0       100   248    0        0      122      0      1.0      1   \n",
       "6   58    1   0       114   318    0        2      140      0      4.4      0   \n",
       "7   55    1   0       160   289    0        0      145      1      0.8      1   \n",
       "8   46    1   0       120   249    0        0      144      0      0.8      2   \n",
       "9   54    1   0       122   286    0        0      116      1      3.2      1   \n",
       "\n",
       "   ca  thal  target  \n",
       "0   2     3       0  \n",
       "1   0     3       0  \n",
       "2   0     3       0  \n",
       "3   1     3       0  \n",
       "4   3     2       0  \n",
       "5   0     2       1  \n",
       "6   3     1       0  \n",
       "7   1     3       0  \n",
       "8   0     3       0  \n",
       "9   2     2       0  "
      ]
     },
     "execution_count": 3,
     "metadata": {},
     "output_type": "execute_result"
    }
   ],
   "source": [
    "data = pd.read_csv('./heart.csv')\n",
    "data.head(10)"
   ]
  },
  {
   "cell_type": "code",
   "execution_count": 4,
   "metadata": {},
   "outputs": [
    {
     "data": {
      "text/html": [
       "<div>\n",
       "<style scoped>\n",
       "    .dataframe tbody tr th:only-of-type {\n",
       "        vertical-align: middle;\n",
       "    }\n",
       "\n",
       "    .dataframe tbody tr th {\n",
       "        vertical-align: top;\n",
       "    }\n",
       "\n",
       "    .dataframe thead th {\n",
       "        text-align: right;\n",
       "    }\n",
       "</style>\n",
       "<table border=\"1\" class=\"dataframe\">\n",
       "  <thead>\n",
       "    <tr style=\"text-align: right;\">\n",
       "      <th></th>\n",
       "      <th>age</th>\n",
       "      <th>sex</th>\n",
       "      <th>cp</th>\n",
       "      <th>trestbps</th>\n",
       "      <th>chol</th>\n",
       "      <th>fbs</th>\n",
       "      <th>restecg</th>\n",
       "      <th>thalach</th>\n",
       "      <th>exang</th>\n",
       "      <th>oldpeak</th>\n",
       "      <th>slope</th>\n",
       "      <th>ca</th>\n",
       "      <th>thal</th>\n",
       "      <th>target</th>\n",
       "    </tr>\n",
       "  </thead>\n",
       "  <tbody>\n",
       "    <tr>\n",
       "      <th>1015</th>\n",
       "      <td>58</td>\n",
       "      <td>1</td>\n",
       "      <td>0</td>\n",
       "      <td>128</td>\n",
       "      <td>216</td>\n",
       "      <td>0</td>\n",
       "      <td>0</td>\n",
       "      <td>131</td>\n",
       "      <td>1</td>\n",
       "      <td>2.2</td>\n",
       "      <td>1</td>\n",
       "      <td>3</td>\n",
       "      <td>3</td>\n",
       "      <td>0</td>\n",
       "    </tr>\n",
       "    <tr>\n",
       "      <th>1016</th>\n",
       "      <td>65</td>\n",
       "      <td>1</td>\n",
       "      <td>3</td>\n",
       "      <td>138</td>\n",
       "      <td>282</td>\n",
       "      <td>1</td>\n",
       "      <td>0</td>\n",
       "      <td>174</td>\n",
       "      <td>0</td>\n",
       "      <td>1.4</td>\n",
       "      <td>1</td>\n",
       "      <td>1</td>\n",
       "      <td>2</td>\n",
       "      <td>0</td>\n",
       "    </tr>\n",
       "    <tr>\n",
       "      <th>1017</th>\n",
       "      <td>53</td>\n",
       "      <td>1</td>\n",
       "      <td>0</td>\n",
       "      <td>123</td>\n",
       "      <td>282</td>\n",
       "      <td>0</td>\n",
       "      <td>1</td>\n",
       "      <td>95</td>\n",
       "      <td>1</td>\n",
       "      <td>2.0</td>\n",
       "      <td>1</td>\n",
       "      <td>2</td>\n",
       "      <td>3</td>\n",
       "      <td>0</td>\n",
       "    </tr>\n",
       "    <tr>\n",
       "      <th>1018</th>\n",
       "      <td>41</td>\n",
       "      <td>1</td>\n",
       "      <td>0</td>\n",
       "      <td>110</td>\n",
       "      <td>172</td>\n",
       "      <td>0</td>\n",
       "      <td>0</td>\n",
       "      <td>158</td>\n",
       "      <td>0</td>\n",
       "      <td>0.0</td>\n",
       "      <td>2</td>\n",
       "      <td>0</td>\n",
       "      <td>3</td>\n",
       "      <td>0</td>\n",
       "    </tr>\n",
       "    <tr>\n",
       "      <th>1019</th>\n",
       "      <td>47</td>\n",
       "      <td>1</td>\n",
       "      <td>0</td>\n",
       "      <td>112</td>\n",
       "      <td>204</td>\n",
       "      <td>0</td>\n",
       "      <td>1</td>\n",
       "      <td>143</td>\n",
       "      <td>0</td>\n",
       "      <td>0.1</td>\n",
       "      <td>2</td>\n",
       "      <td>0</td>\n",
       "      <td>2</td>\n",
       "      <td>1</td>\n",
       "    </tr>\n",
       "    <tr>\n",
       "      <th>1020</th>\n",
       "      <td>59</td>\n",
       "      <td>1</td>\n",
       "      <td>1</td>\n",
       "      <td>140</td>\n",
       "      <td>221</td>\n",
       "      <td>0</td>\n",
       "      <td>1</td>\n",
       "      <td>164</td>\n",
       "      <td>1</td>\n",
       "      <td>0.0</td>\n",
       "      <td>2</td>\n",
       "      <td>0</td>\n",
       "      <td>2</td>\n",
       "      <td>1</td>\n",
       "    </tr>\n",
       "    <tr>\n",
       "      <th>1021</th>\n",
       "      <td>60</td>\n",
       "      <td>1</td>\n",
       "      <td>0</td>\n",
       "      <td>125</td>\n",
       "      <td>258</td>\n",
       "      <td>0</td>\n",
       "      <td>0</td>\n",
       "      <td>141</td>\n",
       "      <td>1</td>\n",
       "      <td>2.8</td>\n",
       "      <td>1</td>\n",
       "      <td>1</td>\n",
       "      <td>3</td>\n",
       "      <td>0</td>\n",
       "    </tr>\n",
       "    <tr>\n",
       "      <th>1022</th>\n",
       "      <td>47</td>\n",
       "      <td>1</td>\n",
       "      <td>0</td>\n",
       "      <td>110</td>\n",
       "      <td>275</td>\n",
       "      <td>0</td>\n",
       "      <td>0</td>\n",
       "      <td>118</td>\n",
       "      <td>1</td>\n",
       "      <td>1.0</td>\n",
       "      <td>1</td>\n",
       "      <td>1</td>\n",
       "      <td>2</td>\n",
       "      <td>0</td>\n",
       "    </tr>\n",
       "    <tr>\n",
       "      <th>1023</th>\n",
       "      <td>50</td>\n",
       "      <td>0</td>\n",
       "      <td>0</td>\n",
       "      <td>110</td>\n",
       "      <td>254</td>\n",
       "      <td>0</td>\n",
       "      <td>0</td>\n",
       "      <td>159</td>\n",
       "      <td>0</td>\n",
       "      <td>0.0</td>\n",
       "      <td>2</td>\n",
       "      <td>0</td>\n",
       "      <td>2</td>\n",
       "      <td>1</td>\n",
       "    </tr>\n",
       "    <tr>\n",
       "      <th>1024</th>\n",
       "      <td>54</td>\n",
       "      <td>1</td>\n",
       "      <td>0</td>\n",
       "      <td>120</td>\n",
       "      <td>188</td>\n",
       "      <td>0</td>\n",
       "      <td>1</td>\n",
       "      <td>113</td>\n",
       "      <td>0</td>\n",
       "      <td>1.4</td>\n",
       "      <td>1</td>\n",
       "      <td>1</td>\n",
       "      <td>3</td>\n",
       "      <td>0</td>\n",
       "    </tr>\n",
       "  </tbody>\n",
       "</table>\n",
       "</div>"
      ],
      "text/plain": [
       "      age  sex  cp  trestbps  chol  fbs  restecg  thalach  exang  oldpeak  \\\n",
       "1015   58    1   0       128   216    0        0      131      1      2.2   \n",
       "1016   65    1   3       138   282    1        0      174      0      1.4   \n",
       "1017   53    1   0       123   282    0        1       95      1      2.0   \n",
       "1018   41    1   0       110   172    0        0      158      0      0.0   \n",
       "1019   47    1   0       112   204    0        1      143      0      0.1   \n",
       "1020   59    1   1       140   221    0        1      164      1      0.0   \n",
       "1021   60    1   0       125   258    0        0      141      1      2.8   \n",
       "1022   47    1   0       110   275    0        0      118      1      1.0   \n",
       "1023   50    0   0       110   254    0        0      159      0      0.0   \n",
       "1024   54    1   0       120   188    0        1      113      0      1.4   \n",
       "\n",
       "      slope  ca  thal  target  \n",
       "1015      1   3     3       0  \n",
       "1016      1   1     2       0  \n",
       "1017      1   2     3       0  \n",
       "1018      2   0     3       0  \n",
       "1019      2   0     2       1  \n",
       "1020      2   0     2       1  \n",
       "1021      1   1     3       0  \n",
       "1022      1   1     2       0  \n",
       "1023      2   0     2       1  \n",
       "1024      1   1     3       0  "
      ]
     },
     "execution_count": 4,
     "metadata": {},
     "output_type": "execute_result"
    }
   ],
   "source": [
    "data.tail(10)"
   ]
  },
  {
   "cell_type": "markdown",
   "metadata": {},
   "source": [
    "### Opis kazdej z kolumn:\n",
    "1. age - age in years\n",
    "2. sex - (1 = male; 0 = female)\n",
    "3. chest pain type (4 values) - chest pain type\n",
    "4. resting blood pressure - resting blood pressure (in mm Hg on admission to the hospital)\n",
    "5. serum cholestoral in mg/dl - serum cholestoral in mg/dl\n",
    "6. fasting blood sugar > 120 mg/dl - (1 = true; 0 = false)\n",
    "7. resting electrocardiographic results (values 0,1,2) - resting electrocardiographic results\n",
    "8. maximum heart rate achieved\n",
    "9. exercise induced angina - (1 = yes; 0 = no)\n",
    "10. oldpeak = ST depression induced by exercise relative to rest\n",
    "11. the slope of the peak exercise ST segment\n",
    "12. number of major vessels (0-3) colored by flourosopy\n",
    "13. thal: 0 = normal; 1 = fixed defect; 2 = reversable defect\n",
    "14. target: 1 - heart disease; 0 - without heart disease"
   ]
  },
  {
   "cell_type": "code",
   "execution_count": 11,
   "metadata": {},
   "outputs": [
    {
     "name": "stdout",
     "output_type": "stream",
     "text": [
      "<class 'pandas.core.frame.DataFrame'>\n",
      "RangeIndex: 1025 entries, 0 to 1024\n",
      "Data columns (total 14 columns):\n",
      " #   Column    Non-Null Count  Dtype  \n",
      "---  ------    --------------  -----  \n",
      " 0   age       1025 non-null   int64  \n",
      " 1   sex       1025 non-null   int64  \n",
      " 2   cp        1025 non-null   int64  \n",
      " 3   trestbps  1025 non-null   int64  \n",
      " 4   chol      1025 non-null   int64  \n",
      " 5   fbs       1025 non-null   int64  \n",
      " 6   restecg   1025 non-null   int64  \n",
      " 7   thalach   1025 non-null   int64  \n",
      " 8   exang     1025 non-null   int64  \n",
      " 9   oldpeak   1025 non-null   float64\n",
      " 10  slope     1025 non-null   int64  \n",
      " 11  ca        1025 non-null   int64  \n",
      " 12  thal      1025 non-null   int64  \n",
      " 13  target    1025 non-null   int64  \n",
      "dtypes: float64(1), int64(13)\n",
      "memory usage: 112.2 KB\n"
     ]
    }
   ],
   "source": [
    "data.info()"
   ]
  },
  {
   "cell_type": "code",
   "execution_count": 12,
   "metadata": {},
   "outputs": [
    {
     "name": "stdout",
     "output_type": "stream",
     "text": [
      "Number of Rows: 1025\n",
      "Number of Columns: 14\n"
     ]
    }
   ],
   "source": [
    "print(\"Number of Rows:\", data.shape[0])\n",
    "print(\"Number of Columns:\", data.shape[1])"
   ]
  },
  {
   "cell_type": "markdown",
   "metadata": {},
   "source": [
    "### Sprawdzenie dla wartości NULL\n"
   ]
  },
  {
   "cell_type": "code",
   "execution_count": 13,
   "metadata": {},
   "outputs": [
    {
     "data": {
      "text/plain": [
       "age         0\n",
       "sex         0\n",
       "cp          0\n",
       "trestbps    0\n",
       "chol        0\n",
       "fbs         0\n",
       "restecg     0\n",
       "thalach     0\n",
       "exang       0\n",
       "oldpeak     0\n",
       "slope       0\n",
       "ca          0\n",
       "thal        0\n",
       "target      0\n",
       "dtype: int64"
      ]
     },
     "execution_count": 13,
     "metadata": {},
     "output_type": "execute_result"
    }
   ],
   "source": [
    "data.isnull().sum()"
   ]
  },
  {
   "cell_type": "markdown",
   "metadata": {},
   "source": [
    "wszędzie mamy zera, czyli nie mamy żadnych nulli"
   ]
  },
  {
   "cell_type": "markdown",
   "metadata": {},
   "source": [
    "### Sprawdzenie dla duplikatów"
   ]
  },
  {
   "cell_type": "code",
   "execution_count": 14,
   "metadata": {},
   "outputs": [
    {
     "data": {
      "text/plain": [
       "True"
      ]
     },
     "execution_count": 14,
     "metadata": {},
     "output_type": "execute_result"
    }
   ],
   "source": [
    "data_d = data.duplicated().any()\n",
    "data_d"
   ]
  },
  {
   "cell_type": "markdown",
   "metadata": {},
   "source": [
    "Jak widać posiadamy duplikaty, możemy je usunąć i zobaczyć ile ich usunęliśmy"
   ]
  },
  {
   "cell_type": "code",
   "execution_count": 15,
   "metadata": {},
   "outputs": [
    {
     "data": {
      "text/plain": [
       "(1025, 14)"
      ]
     },
     "execution_count": 15,
     "metadata": {},
     "output_type": "execute_result"
    }
   ],
   "source": [
    "data.shape"
   ]
  },
  {
   "cell_type": "code",
   "execution_count": 16,
   "metadata": {},
   "outputs": [],
   "source": [
    "data = data.drop_duplicates()"
   ]
  },
  {
   "cell_type": "code",
   "execution_count": 17,
   "metadata": {},
   "outputs": [
    {
     "data": {
      "text/plain": [
       "(302, 14)"
      ]
     },
     "execution_count": 17,
     "metadata": {},
     "output_type": "execute_result"
    }
   ],
   "source": [
    "data.shape"
   ]
  },
  {
   "cell_type": "markdown",
   "metadata": {},
   "source": [
    "### Ogólne statystyki datasetu"
   ]
  },
  {
   "cell_type": "code",
   "execution_count": 18,
   "metadata": {},
   "outputs": [
    {
     "data": {
      "text/html": [
       "<div>\n",
       "<style scoped>\n",
       "    .dataframe tbody tr th:only-of-type {\n",
       "        vertical-align: middle;\n",
       "    }\n",
       "\n",
       "    .dataframe tbody tr th {\n",
       "        vertical-align: top;\n",
       "    }\n",
       "\n",
       "    .dataframe thead th {\n",
       "        text-align: right;\n",
       "    }\n",
       "</style>\n",
       "<table border=\"1\" class=\"dataframe\">\n",
       "  <thead>\n",
       "    <tr style=\"text-align: right;\">\n",
       "      <th></th>\n",
       "      <th>age</th>\n",
       "      <th>sex</th>\n",
       "      <th>cp</th>\n",
       "      <th>trestbps</th>\n",
       "      <th>chol</th>\n",
       "      <th>fbs</th>\n",
       "      <th>restecg</th>\n",
       "      <th>thalach</th>\n",
       "      <th>exang</th>\n",
       "      <th>oldpeak</th>\n",
       "      <th>slope</th>\n",
       "      <th>ca</th>\n",
       "      <th>thal</th>\n",
       "      <th>target</th>\n",
       "    </tr>\n",
       "  </thead>\n",
       "  <tbody>\n",
       "    <tr>\n",
       "      <th>count</th>\n",
       "      <td>302.00000</td>\n",
       "      <td>302.000000</td>\n",
       "      <td>302.000000</td>\n",
       "      <td>302.000000</td>\n",
       "      <td>302.000000</td>\n",
       "      <td>302.000000</td>\n",
       "      <td>302.000000</td>\n",
       "      <td>302.000000</td>\n",
       "      <td>302.000000</td>\n",
       "      <td>302.000000</td>\n",
       "      <td>302.000000</td>\n",
       "      <td>302.000000</td>\n",
       "      <td>302.000000</td>\n",
       "      <td>302.000000</td>\n",
       "    </tr>\n",
       "    <tr>\n",
       "      <th>mean</th>\n",
       "      <td>54.42053</td>\n",
       "      <td>0.682119</td>\n",
       "      <td>0.963576</td>\n",
       "      <td>131.602649</td>\n",
       "      <td>246.500000</td>\n",
       "      <td>0.149007</td>\n",
       "      <td>0.526490</td>\n",
       "      <td>149.569536</td>\n",
       "      <td>0.327815</td>\n",
       "      <td>1.043046</td>\n",
       "      <td>1.397351</td>\n",
       "      <td>0.718543</td>\n",
       "      <td>2.314570</td>\n",
       "      <td>0.543046</td>\n",
       "    </tr>\n",
       "    <tr>\n",
       "      <th>std</th>\n",
       "      <td>9.04797</td>\n",
       "      <td>0.466426</td>\n",
       "      <td>1.032044</td>\n",
       "      <td>17.563394</td>\n",
       "      <td>51.753489</td>\n",
       "      <td>0.356686</td>\n",
       "      <td>0.526027</td>\n",
       "      <td>22.903527</td>\n",
       "      <td>0.470196</td>\n",
       "      <td>1.161452</td>\n",
       "      <td>0.616274</td>\n",
       "      <td>1.006748</td>\n",
       "      <td>0.613026</td>\n",
       "      <td>0.498970</td>\n",
       "    </tr>\n",
       "    <tr>\n",
       "      <th>min</th>\n",
       "      <td>29.00000</td>\n",
       "      <td>0.000000</td>\n",
       "      <td>0.000000</td>\n",
       "      <td>94.000000</td>\n",
       "      <td>126.000000</td>\n",
       "      <td>0.000000</td>\n",
       "      <td>0.000000</td>\n",
       "      <td>71.000000</td>\n",
       "      <td>0.000000</td>\n",
       "      <td>0.000000</td>\n",
       "      <td>0.000000</td>\n",
       "      <td>0.000000</td>\n",
       "      <td>0.000000</td>\n",
       "      <td>0.000000</td>\n",
       "    </tr>\n",
       "    <tr>\n",
       "      <th>25%</th>\n",
       "      <td>48.00000</td>\n",
       "      <td>0.000000</td>\n",
       "      <td>0.000000</td>\n",
       "      <td>120.000000</td>\n",
       "      <td>211.000000</td>\n",
       "      <td>0.000000</td>\n",
       "      <td>0.000000</td>\n",
       "      <td>133.250000</td>\n",
       "      <td>0.000000</td>\n",
       "      <td>0.000000</td>\n",
       "      <td>1.000000</td>\n",
       "      <td>0.000000</td>\n",
       "      <td>2.000000</td>\n",
       "      <td>0.000000</td>\n",
       "    </tr>\n",
       "    <tr>\n",
       "      <th>50%</th>\n",
       "      <td>55.50000</td>\n",
       "      <td>1.000000</td>\n",
       "      <td>1.000000</td>\n",
       "      <td>130.000000</td>\n",
       "      <td>240.500000</td>\n",
       "      <td>0.000000</td>\n",
       "      <td>1.000000</td>\n",
       "      <td>152.500000</td>\n",
       "      <td>0.000000</td>\n",
       "      <td>0.800000</td>\n",
       "      <td>1.000000</td>\n",
       "      <td>0.000000</td>\n",
       "      <td>2.000000</td>\n",
       "      <td>1.000000</td>\n",
       "    </tr>\n",
       "    <tr>\n",
       "      <th>75%</th>\n",
       "      <td>61.00000</td>\n",
       "      <td>1.000000</td>\n",
       "      <td>2.000000</td>\n",
       "      <td>140.000000</td>\n",
       "      <td>274.750000</td>\n",
       "      <td>0.000000</td>\n",
       "      <td>1.000000</td>\n",
       "      <td>166.000000</td>\n",
       "      <td>1.000000</td>\n",
       "      <td>1.600000</td>\n",
       "      <td>2.000000</td>\n",
       "      <td>1.000000</td>\n",
       "      <td>3.000000</td>\n",
       "      <td>1.000000</td>\n",
       "    </tr>\n",
       "    <tr>\n",
       "      <th>max</th>\n",
       "      <td>77.00000</td>\n",
       "      <td>1.000000</td>\n",
       "      <td>3.000000</td>\n",
       "      <td>200.000000</td>\n",
       "      <td>564.000000</td>\n",
       "      <td>1.000000</td>\n",
       "      <td>2.000000</td>\n",
       "      <td>202.000000</td>\n",
       "      <td>1.000000</td>\n",
       "      <td>6.200000</td>\n",
       "      <td>2.000000</td>\n",
       "      <td>4.000000</td>\n",
       "      <td>3.000000</td>\n",
       "      <td>1.000000</td>\n",
       "    </tr>\n",
       "  </tbody>\n",
       "</table>\n",
       "</div>"
      ],
      "text/plain": [
       "             age         sex          cp    trestbps        chol         fbs  \\\n",
       "count  302.00000  302.000000  302.000000  302.000000  302.000000  302.000000   \n",
       "mean    54.42053    0.682119    0.963576  131.602649  246.500000    0.149007   \n",
       "std      9.04797    0.466426    1.032044   17.563394   51.753489    0.356686   \n",
       "min     29.00000    0.000000    0.000000   94.000000  126.000000    0.000000   \n",
       "25%     48.00000    0.000000    0.000000  120.000000  211.000000    0.000000   \n",
       "50%     55.50000    1.000000    1.000000  130.000000  240.500000    0.000000   \n",
       "75%     61.00000    1.000000    2.000000  140.000000  274.750000    0.000000   \n",
       "max     77.00000    1.000000    3.000000  200.000000  564.000000    1.000000   \n",
       "\n",
       "          restecg     thalach       exang     oldpeak       slope          ca  \\\n",
       "count  302.000000  302.000000  302.000000  302.000000  302.000000  302.000000   \n",
       "mean     0.526490  149.569536    0.327815    1.043046    1.397351    0.718543   \n",
       "std      0.526027   22.903527    0.470196    1.161452    0.616274    1.006748   \n",
       "min      0.000000   71.000000    0.000000    0.000000    0.000000    0.000000   \n",
       "25%      0.000000  133.250000    0.000000    0.000000    1.000000    0.000000   \n",
       "50%      1.000000  152.500000    0.000000    0.800000    1.000000    0.000000   \n",
       "75%      1.000000  166.000000    1.000000    1.600000    2.000000    1.000000   \n",
       "max      2.000000  202.000000    1.000000    6.200000    2.000000    4.000000   \n",
       "\n",
       "             thal      target  \n",
       "count  302.000000  302.000000  \n",
       "mean     2.314570    0.543046  \n",
       "std      0.613026    0.498970  \n",
       "min      0.000000    0.000000  \n",
       "25%      2.000000    0.000000  \n",
       "50%      2.000000    1.000000  \n",
       "75%      3.000000    1.000000  \n",
       "max      3.000000    1.000000  "
      ]
     },
     "execution_count": 18,
     "metadata": {},
     "output_type": "execute_result"
    }
   ],
   "source": [
    "data.describe()"
   ]
  },
  {
   "cell_type": "markdown",
   "metadata": {},
   "source": [
    "## Correlation Matrix"
   ]
  },
  {
   "cell_type": "code",
   "execution_count": 19,
   "metadata": {},
   "outputs": [
    {
     "data": {
      "text/plain": [
       "<AxesSubplot:>"
      ]
     },
     "execution_count": 19,
     "metadata": {},
     "output_type": "execute_result"
    },
    {
     "data": {
      "image/png": "[encoded data removed]",
      "text/plain": [
       "<Figure size 1224x432 with 2 Axes>"
      ]
     },
     "metadata": {
      "needs_background": "light"
     },
     "output_type": "display_data"
    }
   ],
   "source": [
    "plt.figure(figsize=(17,6))\n",
    "sns.heatmap(data.corr(),annot=True)"
   ]
  },
  {
   "cell_type": "markdown",
   "metadata": {},
   "source": [
    "## Teraz sprawdźmy ile osób z naszych danych posiada, \n",
    "## a ile nie posiada chorób serca"
   ]
  },
  {
   "cell_type": "code",
   "execution_count": 20,
   "metadata": {},
   "outputs": [
    {
     "name": "stderr",
     "output_type": "stream",
     "text": [
      "c:\\Users\\dolid\\AppData\\Local\\Programs\\Python\\Python310\\lib\\site-packages\\seaborn\\_decorators.py:36: FutureWarning: Pass the following variable as a keyword arg: x. From version 0.12, the only valid positional argument will be `data`, and passing other arguments without an explicit keyword will result in an error or misinterpretation.\n",
      "  warnings.warn(\n"
     ]
    },
    {
     "data": {
      "text/plain": [
       "<AxesSubplot:xlabel='target', ylabel='count'>"
      ]
     },
     "execution_count": 20,
     "metadata": {},
     "output_type": "execute_result"
    },
    {
     "data": {
      "image/png": "[encoded data removed]",
      "text/plain": [
       "<Figure size 432x288 with 1 Axes>"
      ]
     },
     "metadata": {
      "needs_background": "light"
     },
     "output_type": "display_data"
    }
   ],
   "source": [
    "sns.countplot(data['target'])"
   ]
  },
  {
   "cell_type": "markdown",
   "metadata": {},
   "source": [
    "## Porównanie między płciami"
   ]
  },
  {
   "cell_type": "code",
   "execution_count": 21,
   "metadata": {},
   "outputs": [
    {
     "name": "stderr",
     "output_type": "stream",
     "text": [
      "c:\\Users\\dolid\\AppData\\Local\\Programs\\Python\\Python310\\lib\\site-packages\\seaborn\\_decorators.py:36: FutureWarning: Pass the following variable as a keyword arg: x. From version 0.12, the only valid positional argument will be `data`, and passing other arguments without an explicit keyword will result in an error or misinterpretation.\n",
      "  warnings.warn(\n"
     ]
    },
    {
     "data": {
      "image/png": "[encoded data removed]",
      "text/plain": [
       "<Figure size 432x288 with 1 Axes>"
      ]
     },
     "metadata": {
      "needs_background": "light"
     },
     "output_type": "display_data"
    }
   ],
   "source": [
    "sns.countplot(data['sex'])\n",
    "plt.xticks([0,1],['Female', 'Male'])\n",
    "plt.show()"
   ]
  },
  {
   "cell_type": "markdown",
   "metadata": {},
   "source": [
    "Widzimy dużą przewagę mężczyzn w naszym datasecie, zobaczmy teraz jak przekłada się to na choroby serca"
   ]
  },
  {
   "cell_type": "code",
   "execution_count": 22,
   "metadata": {},
   "outputs": [
    {
     "data": {
      "image/png": "[encoded data removed]",
      "text/plain": [
       "<Figure size 432x288 with 1 Axes>"
      ]
     },
     "metadata": {
      "needs_background": "light"
     },
     "output_type": "display_data"
    }
   ],
   "source": [
    "sns.countplot(x='sex',hue=\"target\",data=data)\n",
    "plt.xticks([1,0],['Male','Female'])\n",
    "plt.legend(labels = ['No Disease','Disease'])\n",
    "plt.show()"
   ]
  },
  {
   "cell_type": "markdown",
   "metadata": {},
   "source": [
    "## Porownanie dla wieku"
   ]
  },
  {
   "cell_type": "code",
   "execution_count": 23,
   "metadata": {},
   "outputs": [
    {
     "data": {
      "image/png": "[encoded data removed]",
      "text/plain": [
       "<Figure size 360x360 with 1 Axes>"
      ]
     },
     "metadata": {
      "needs_background": "light"
     },
     "output_type": "display_data"
    }
   ],
   "source": [
    "sns.displot(x='age', data=data, bins=30)\n",
    "plt.show();"
   ]
  },
  {
   "cell_type": "markdown",
   "metadata": {},
   "source": [
    "#### Porownanie płci i rodzaju bólu klatki piersiowej"
   ]
  },
  {
   "cell_type": "code",
   "execution_count": 24,
   "metadata": {},
   "outputs": [
    {
     "data": {
      "image/png": "[encoded data removed]",
      "text/plain": [
       "<Figure size 432x288 with 1 Axes>"
      ]
     },
     "metadata": {
      "needs_background": "light"
     },
     "output_type": "display_data"
    }
   ],
   "source": [
    "sns.countplot(x='cp',hue=\"target\",data=data)\n",
    "plt.xticks([3,2,1,0],['Asymptomatic','Non-Anginal', 'Atypical Angina', 'Typical Angina'])\n",
    "plt.legend(labels = ['Male','Female'])\n",
    "plt.xlabel(\"Chest pain type\")\n",
    "plt.show()\n",
    "\n"
   ]
  },
  {
   "cell_type": "markdown",
   "metadata": {},
   "source": [
    "## Porownanie dla maksymalnego tętna bicia serca"
   ]
  },
  {
   "cell_type": "code",
   "execution_count": 25,
   "metadata": {},
   "outputs": [
    {
     "data": {
      "image/png": "[encoded data removed]",
      "text/plain": [
       "<Figure size 360x360 with 1 Axes>"
      ]
     },
     "metadata": {
      "needs_background": "light"
     },
     "output_type": "display_data"
    }
   ],
   "source": [
    "sns.displot(x='thalach', data=data, bins=30,  color='chocolate')\n",
    "plt.show();"
   ]
  },
  {
   "cell_type": "markdown",
   "metadata": {},
   "source": [
    "#### Porownanie wieku i tętna bicia serca u ludzi posiadających chorobę serca"
   ]
  },
  {
   "cell_type": "code",
   "execution_count": 26,
   "metadata": {},
   "outputs": [
    {
     "data": {
      "image/png": "[encoded data removed]",
      "text/plain": [
       "<Figure size 864x648 with 1 Axes>"
      ]
     },
     "metadata": {
      "needs_background": "light"
     },
     "output_type": "display_data"
    }
   ],
   "source": [
    "plt.figure(figsize=(12,9))\n",
    "\n",
    "plt.scatter(data.age[data.target==1], data.thalach[data.target==1], c=\"blue\")\n",
    "\n",
    "plt.title(\"Age and Max Heart Rate\")\n",
    "plt.xlabel(\"Age\")\n",
    "plt.ylabel(\"Max Heart Rate\");"
   ]
  },
  {
   "cell_type": "markdown",
   "metadata": {},
   "source": [
    "#### Porownanie ludzi z chorobami serca i maksymalnego tętna bicia serca "
   ]
  },
  {
   "cell_type": "code",
   "execution_count": 27,
   "metadata": {},
   "outputs": [
    {
     "data": {
      "image/png": "[encoded data removed]",
      "text/plain": [
       "<Figure size 360x360 with 1 Axes>"
      ]
     },
     "metadata": {
      "needs_background": "light"
     },
     "output_type": "display_data"
    }
   ],
   "source": [
    "sns.displot(x=data.thalach[data.target==1], data=data, color='lightblue', bins=30)\n",
    "skewness=str(data.thalach[data.target==1].skew())\n",
    "kurtosis=str(data.thalach[data.target==1].kurt())\n",
    "plt.title(\"Maximum heart achieved vs number of people with heart disease\")\n",
    "plt.xlabel(\"Maximum heart rate achieved\")\n",
    "plt.ylabel(\"Number of people with heart disease\");"
   ]
  },
  {
   "cell_type": "markdown",
   "metadata": {},
   "source": [
    "# Modelowanie"
   ]
  },
  {
   "cell_type": "code",
   "execution_count": 5,
   "metadata": {},
   "outputs": [],
   "source": [
    "x = data.iloc[:, 0:-1]\n",
    "y = data.iloc[:, -1]"
   ]
  },
  {
   "cell_type": "code",
   "execution_count": 29,
   "metadata": {},
   "outputs": [
    {
     "data": {
      "text/html": [
       "<div>\n",
       "<style scoped>\n",
       "    .dataframe tbody tr th:only-of-type {\n",
       "        vertical-align: middle;\n",
       "    }\n",
       "\n",
       "    .dataframe tbody tr th {\n",
       "        vertical-align: top;\n",
       "    }\n",
       "\n",
       "    .dataframe thead th {\n",
       "        text-align: right;\n",
       "    }\n",
       "</style>\n",
       "<table border=\"1\" class=\"dataframe\">\n",
       "  <thead>\n",
       "    <tr style=\"text-align: right;\">\n",
       "      <th></th>\n",
       "      <th>age</th>\n",
       "      <th>sex</th>\n",
       "      <th>cp</th>\n",
       "      <th>trestbps</th>\n",
       "      <th>chol</th>\n",
       "      <th>fbs</th>\n",
       "      <th>restecg</th>\n",
       "      <th>thalach</th>\n",
       "      <th>exang</th>\n",
       "      <th>oldpeak</th>\n",
       "      <th>slope</th>\n",
       "      <th>ca</th>\n",
       "      <th>thal</th>\n",
       "    </tr>\n",
       "  </thead>\n",
       "  <tbody>\n",
       "    <tr>\n",
       "      <th>0</th>\n",
       "      <td>52</td>\n",
       "      <td>1</td>\n",
       "      <td>0</td>\n",
       "      <td>125</td>\n",
       "      <td>212</td>\n",
       "      <td>0</td>\n",
       "      <td>1</td>\n",
       "      <td>168</td>\n",
       "      <td>0</td>\n",
       "      <td>1.0</td>\n",
       "      <td>2</td>\n",
       "      <td>2</td>\n",
       "      <td>3</td>\n",
       "    </tr>\n",
       "    <tr>\n",
       "      <th>1</th>\n",
       "      <td>53</td>\n",
       "      <td>1</td>\n",
       "      <td>0</td>\n",
       "      <td>140</td>\n",
       "      <td>203</td>\n",
       "      <td>1</td>\n",
       "      <td>0</td>\n",
       "      <td>155</td>\n",
       "      <td>1</td>\n",
       "      <td>3.1</td>\n",
       "      <td>0</td>\n",
       "      <td>0</td>\n",
       "      <td>3</td>\n",
       "    </tr>\n",
       "    <tr>\n",
       "      <th>2</th>\n",
       "      <td>70</td>\n",
       "      <td>1</td>\n",
       "      <td>0</td>\n",
       "      <td>145</td>\n",
       "      <td>174</td>\n",
       "      <td>0</td>\n",
       "      <td>1</td>\n",
       "      <td>125</td>\n",
       "      <td>1</td>\n",
       "      <td>2.6</td>\n",
       "      <td>0</td>\n",
       "      <td>0</td>\n",
       "      <td>3</td>\n",
       "    </tr>\n",
       "    <tr>\n",
       "      <th>3</th>\n",
       "      <td>61</td>\n",
       "      <td>1</td>\n",
       "      <td>0</td>\n",
       "      <td>148</td>\n",
       "      <td>203</td>\n",
       "      <td>0</td>\n",
       "      <td>1</td>\n",
       "      <td>161</td>\n",
       "      <td>0</td>\n",
       "      <td>0.0</td>\n",
       "      <td>2</td>\n",
       "      <td>1</td>\n",
       "      <td>3</td>\n",
       "    </tr>\n",
       "    <tr>\n",
       "      <th>4</th>\n",
       "      <td>62</td>\n",
       "      <td>0</td>\n",
       "      <td>0</td>\n",
       "      <td>138</td>\n",
       "      <td>294</td>\n",
       "      <td>1</td>\n",
       "      <td>1</td>\n",
       "      <td>106</td>\n",
       "      <td>0</td>\n",
       "      <td>1.9</td>\n",
       "      <td>1</td>\n",
       "      <td>3</td>\n",
       "      <td>2</td>\n",
       "    </tr>\n",
       "  </tbody>\n",
       "</table>\n",
       "</div>"
      ],
      "text/plain": [
       "   age  sex  cp  trestbps  chol  fbs  restecg  thalach  exang  oldpeak  slope  \\\n",
       "0   52    1   0       125   212    0        1      168      0      1.0      2   \n",
       "1   53    1   0       140   203    1        0      155      1      3.1      0   \n",
       "2   70    1   0       145   174    0        1      125      1      2.6      0   \n",
       "3   61    1   0       148   203    0        1      161      0      0.0      2   \n",
       "4   62    0   0       138   294    1        1      106      0      1.9      1   \n",
       "\n",
       "   ca  thal  \n",
       "0   2     3  \n",
       "1   0     3  \n",
       "2   0     3  \n",
       "3   1     3  \n",
       "4   3     2  "
      ]
     },
     "execution_count": 29,
     "metadata": {},
     "output_type": "execute_result"
    }
   ],
   "source": [
    "x.head()"
   ]
  },
  {
   "cell_type": "code",
   "execution_count": 30,
   "metadata": {},
   "outputs": [
    {
     "data": {
      "text/plain": [
       "0    0\n",
       "1    0\n",
       "2    0\n",
       "3    0\n",
       "4    0\n",
       "Name: target, dtype: int64"
      ]
     },
     "execution_count": 30,
     "metadata": {},
     "output_type": "execute_result"
    }
   ],
   "source": [
    "y.head()"
   ]
  },
  {
   "cell_type": "markdown",
   "metadata": {},
   "source": [
    "Podzielmy dataset na dane testowe i do trenowania"
   ]
  },
  {
   "cell_type": "code",
   "execution_count": 6,
   "metadata": {},
   "outputs": [],
   "source": [
    "from sklearn.model_selection import train_test_split\n",
    "x_train, x_test, y_train, y_test = train_test_split(x, y, test_size = 0.2, random_state = 31)"
   ]
  },
  {
   "cell_type": "code",
   "execution_count": 32,
   "metadata": {},
   "outputs": [
    {
     "data": {
      "text/html": [
       "<div>\n",
       "<style scoped>\n",
       "    .dataframe tbody tr th:only-of-type {\n",
       "        vertical-align: middle;\n",
       "    }\n",
       "\n",
       "    .dataframe tbody tr th {\n",
       "        vertical-align: top;\n",
       "    }\n",
       "\n",
       "    .dataframe thead th {\n",
       "        text-align: right;\n",
       "    }\n",
       "</style>\n",
       "<table border=\"1\" class=\"dataframe\">\n",
       "  <thead>\n",
       "    <tr style=\"text-align: right;\">\n",
       "      <th></th>\n",
       "      <th>age</th>\n",
       "      <th>sex</th>\n",
       "      <th>cp</th>\n",
       "      <th>trestbps</th>\n",
       "      <th>chol</th>\n",
       "      <th>fbs</th>\n",
       "      <th>restecg</th>\n",
       "      <th>thalach</th>\n",
       "      <th>exang</th>\n",
       "      <th>oldpeak</th>\n",
       "      <th>slope</th>\n",
       "      <th>ca</th>\n",
       "      <th>thal</th>\n",
       "    </tr>\n",
       "  </thead>\n",
       "  <tbody>\n",
       "    <tr>\n",
       "      <th>160</th>\n",
       "      <td>77</td>\n",
       "      <td>1</td>\n",
       "      <td>0</td>\n",
       "      <td>125</td>\n",
       "      <td>304</td>\n",
       "      <td>0</td>\n",
       "      <td>0</td>\n",
       "      <td>162</td>\n",
       "      <td>1</td>\n",
       "      <td>0.0</td>\n",
       "      <td>2</td>\n",
       "      <td>3</td>\n",
       "      <td>2</td>\n",
       "    </tr>\n",
       "    <tr>\n",
       "      <th>109</th>\n",
       "      <td>54</td>\n",
       "      <td>1</td>\n",
       "      <td>0</td>\n",
       "      <td>110</td>\n",
       "      <td>206</td>\n",
       "      <td>0</td>\n",
       "      <td>0</td>\n",
       "      <td>108</td>\n",
       "      <td>1</td>\n",
       "      <td>0.0</td>\n",
       "      <td>1</td>\n",
       "      <td>1</td>\n",
       "      <td>2</td>\n",
       "    </tr>\n",
       "    <tr>\n",
       "      <th>305</th>\n",
       "      <td>62</td>\n",
       "      <td>1</td>\n",
       "      <td>0</td>\n",
       "      <td>120</td>\n",
       "      <td>267</td>\n",
       "      <td>0</td>\n",
       "      <td>1</td>\n",
       "      <td>99</td>\n",
       "      <td>1</td>\n",
       "      <td>1.8</td>\n",
       "      <td>1</td>\n",
       "      <td>2</td>\n",
       "      <td>3</td>\n",
       "    </tr>\n",
       "    <tr>\n",
       "      <th>358</th>\n",
       "      <td>59</td>\n",
       "      <td>1</td>\n",
       "      <td>3</td>\n",
       "      <td>134</td>\n",
       "      <td>204</td>\n",
       "      <td>0</td>\n",
       "      <td>1</td>\n",
       "      <td>162</td>\n",
       "      <td>0</td>\n",
       "      <td>0.8</td>\n",
       "      <td>2</td>\n",
       "      <td>2</td>\n",
       "      <td>2</td>\n",
       "    </tr>\n",
       "    <tr>\n",
       "      <th>321</th>\n",
       "      <td>48</td>\n",
       "      <td>0</td>\n",
       "      <td>2</td>\n",
       "      <td>130</td>\n",
       "      <td>275</td>\n",
       "      <td>0</td>\n",
       "      <td>1</td>\n",
       "      <td>139</td>\n",
       "      <td>0</td>\n",
       "      <td>0.2</td>\n",
       "      <td>2</td>\n",
       "      <td>0</td>\n",
       "      <td>2</td>\n",
       "    </tr>\n",
       "  </tbody>\n",
       "</table>\n",
       "</div>"
      ],
      "text/plain": [
       "     age  sex  cp  trestbps  chol  fbs  restecg  thalach  exang  oldpeak  \\\n",
       "160   77    1   0       125   304    0        0      162      1      0.0   \n",
       "109   54    1   0       110   206    0        0      108      1      0.0   \n",
       "305   62    1   0       120   267    0        1       99      1      1.8   \n",
       "358   59    1   3       134   204    0        1      162      0      0.8   \n",
       "321   48    0   2       130   275    0        1      139      0      0.2   \n",
       "\n",
       "     slope  ca  thal  \n",
       "160      2   3     2  \n",
       "109      1   1     2  \n",
       "305      1   2     3  \n",
       "358      2   2     2  \n",
       "321      2   0     2  "
      ]
     },
     "execution_count": 32,
     "metadata": {},
     "output_type": "execute_result"
    }
   ],
   "source": [
    "x_train.head()"
   ]
  },
  {
   "cell_type": "code",
   "execution_count": 33,
   "metadata": {},
   "outputs": [
    {
     "data": {
      "text/plain": [
       "160    0\n",
       "109    0\n",
       "305    0\n",
       "358    0\n",
       "321    1\n",
       "Name: target, dtype: int64"
      ]
     },
     "execution_count": 33,
     "metadata": {},
     "output_type": "execute_result"
    }
   ],
   "source": [
    "y_train.head()"
   ]
  },
  {
   "cell_type": "code",
   "execution_count": 34,
   "metadata": {},
   "outputs": [],
   "source": [
    "from sklearn.model_selection import GridSearchCV\n",
    "from sklearn import model_selection\n",
    "from sklearn.linear_model import LogisticRegression\n",
    "from sklearn.preprocessing import StandardScaler\n",
    "from sklearn.pipeline import Pipeline\n",
    "from sklearn.svm import SVC\n",
    "from sklearn.tree import DecisionTreeClassifier\n",
    "from sklearn.ensemble import RandomForestClassifier\n",
    "from sklearn.ensemble import BaggingClassifier\n",
    "from sklearn.ensemble import AdaBoostClassifier\n",
    "from sklearn.ensemble import GradientBoostingClassifier\n",
    "from sklearn.neighbors import KNeighborsClassifier\n",
    "from sklearn.neural_network import MLPClassifier\n",
    "\n",
    "kfold = model_selection.KFold(n_splits=5, random_state=None)"
   ]
  },
  {
   "cell_type": "markdown",
   "metadata": {},
   "source": [
    "## Logistic Regression"
   ]
  },
  {
   "cell_type": "code",
   "execution_count": 35,
   "metadata": {},
   "outputs": [
    {
     "name": "stderr",
     "output_type": "stream",
     "text": [
      "c:\\Users\\dolid\\AppData\\Local\\Programs\\Python\\Python310\\lib\\site-packages\\sklearn\\linear_model\\_logistic.py:814: ConvergenceWarning: lbfgs failed to converge (status=1):\n",
      "STOP: TOTAL NO. of ITERATIONS REACHED LIMIT.\n",
      "\n",
      "Increase the number of iterations (max_iter) or scale the data as shown in:\n",
      "    https://scikit-learn.org/stable/modules/preprocessing.html\n",
      "Please also refer to the documentation for alternative solver options:\n",
      "    https://scikit-learn.org/stable/modules/linear_model.html#logistic-regression\n",
      "  n_iter_i = _check_optimize_result(\n",
      "c:\\Users\\dolid\\AppData\\Local\\Programs\\Python\\Python310\\lib\\site-packages\\sklearn\\linear_model\\_logistic.py:814: ConvergenceWarning: lbfgs failed to converge (status=1):\n",
      "STOP: TOTAL NO. of ITERATIONS REACHED LIMIT.\n",
      "\n",
      "Increase the number of iterations (max_iter) or scale the data as shown in:\n",
      "    https://scikit-learn.org/stable/modules/preprocessing.html\n",
      "Please also refer to the documentation for alternative solver options:\n",
      "    https://scikit-learn.org/stable/modules/linear_model.html#logistic-regression\n",
      "  n_iter_i = _check_optimize_result(\n",
      "c:\\Users\\dolid\\AppData\\Local\\Programs\\Python\\Python310\\lib\\site-packages\\sklearn\\linear_model\\_logistic.py:814: ConvergenceWarning: lbfgs failed to converge (status=1):\n",
      "STOP: TOTAL NO. of ITERATIONS REACHED LIMIT.\n",
      "\n",
      "Increase the number of iterations (max_iter) or scale the data as shown in:\n",
      "    https://scikit-learn.org/stable/modules/preprocessing.html\n",
      "Please also refer to the documentation for alternative solver options:\n",
      "    https://scikit-learn.org/stable/modules/linear_model.html#logistic-regression\n",
      "  n_iter_i = _check_optimize_result(\n",
      "c:\\Users\\dolid\\AppData\\Local\\Programs\\Python\\Python310\\lib\\site-packages\\sklearn\\linear_model\\_logistic.py:814: ConvergenceWarning: lbfgs failed to converge (status=1):\n",
      "STOP: TOTAL NO. of ITERATIONS REACHED LIMIT.\n",
      "\n",
      "Increase the number of iterations (max_iter) or scale the data as shown in:\n",
      "    https://scikit-learn.org/stable/modules/preprocessing.html\n",
      "Please also refer to the documentation for alternative solver options:\n",
      "    https://scikit-learn.org/stable/modules/linear_model.html#logistic-regression\n",
      "  n_iter_i = _check_optimize_result(\n",
      "c:\\Users\\dolid\\AppData\\Local\\Programs\\Python\\Python310\\lib\\site-packages\\sklearn\\linear_model\\_logistic.py:814: ConvergenceWarning: lbfgs failed to converge (status=1):\n",
      "STOP: TOTAL NO. of ITERATIONS REACHED LIMIT.\n",
      "\n",
      "Increase the number of iterations (max_iter) or scale the data as shown in:\n",
      "    https://scikit-learn.org/stable/modules/preprocessing.html\n",
      "Please also refer to the documentation for alternative solver options:\n",
      "    https://scikit-learn.org/stable/modules/linear_model.html#logistic-regression\n",
      "  n_iter_i = _check_optimize_result(\n",
      "c:\\Users\\dolid\\AppData\\Local\\Programs\\Python\\Python310\\lib\\site-packages\\sklearn\\linear_model\\_logistic.py:814: ConvergenceWarning: lbfgs failed to converge (status=1):\n",
      "STOP: TOTAL NO. of ITERATIONS REACHED LIMIT.\n",
      "\n",
      "Increase the number of iterations (max_iter) or scale the data as shown in:\n",
      "    https://scikit-learn.org/stable/modules/preprocessing.html\n",
      "Please also refer to the documentation for alternative solver options:\n",
      "    https://scikit-learn.org/stable/modules/linear_model.html#logistic-regression\n",
      "  n_iter_i = _check_optimize_result(\n",
      "c:\\Users\\dolid\\AppData\\Local\\Programs\\Python\\Python310\\lib\\site-packages\\sklearn\\linear_model\\_logistic.py:814: ConvergenceWarning: lbfgs failed to converge (status=1):\n",
      "STOP: TOTAL NO. of ITERATIONS REACHED LIMIT.\n",
      "\n",
      "Increase the number of iterations (max_iter) or scale the data as shown in:\n",
      "    https://scikit-learn.org/stable/modules/preprocessing.html\n",
      "Please also refer to the documentation for alternative solver options:\n",
      "    https://scikit-learn.org/stable/modules/linear_model.html#logistic-regression\n",
      "  n_iter_i = _check_optimize_result(\n",
      "c:\\Users\\dolid\\AppData\\Local\\Programs\\Python\\Python310\\lib\\site-packages\\sklearn\\linear_model\\_logistic.py:814: ConvergenceWarning: lbfgs failed to converge (status=1):\n",
      "STOP: TOTAL NO. of ITERATIONS REACHED LIMIT.\n",
      "\n",
      "Increase the number of iterations (max_iter) or scale the data as shown in:\n",
      "    https://scikit-learn.org/stable/modules/preprocessing.html\n",
      "Please also refer to the documentation for alternative solver options:\n",
      "    https://scikit-learn.org/stable/modules/linear_model.html#logistic-regression\n",
      "  n_iter_i = _check_optimize_result(\n",
      "c:\\Users\\dolid\\AppData\\Local\\Programs\\Python\\Python310\\lib\\site-packages\\sklearn\\linear_model\\_logistic.py:814: ConvergenceWarning: lbfgs failed to converge (status=1):\n",
      "STOP: TOTAL NO. of ITERATIONS REACHED LIMIT.\n",
      "\n",
      "Increase the number of iterations (max_iter) or scale the data as shown in:\n",
      "    https://scikit-learn.org/stable/modules/preprocessing.html\n",
      "Please also refer to the documentation for alternative solver options:\n",
      "    https://scikit-learn.org/stable/modules/linear_model.html#logistic-regression\n",
      "  n_iter_i = _check_optimize_result(\n",
      "c:\\Users\\dolid\\AppData\\Local\\Programs\\Python\\Python310\\lib\\site-packages\\sklearn\\linear_model\\_logistic.py:814: ConvergenceWarning: lbfgs failed to converge (status=1):\n",
      "STOP: TOTAL NO. of ITERATIONS REACHED LIMIT.\n",
      "\n",
      "Increase the number of iterations (max_iter) or scale the data as shown in:\n",
      "    https://scikit-learn.org/stable/modules/preprocessing.html\n",
      "Please also refer to the documentation for alternative solver options:\n",
      "    https://scikit-learn.org/stable/modules/linear_model.html#logistic-regression\n",
      "  n_iter_i = _check_optimize_result(\n",
      "c:\\Users\\dolid\\AppData\\Local\\Programs\\Python\\Python310\\lib\\site-packages\\sklearn\\linear_model\\_logistic.py:814: ConvergenceWarning: lbfgs failed to converge (status=1):\n",
      "STOP: TOTAL NO. of ITERATIONS REACHED LIMIT.\n",
      "\n",
      "Increase the number of iterations (max_iter) or scale the data as shown in:\n",
      "    https://scikit-learn.org/stable/modules/preprocessing.html\n",
      "Please also refer to the documentation for alternative solver options:\n",
      "    https://scikit-learn.org/stable/modules/linear_model.html#logistic-regression\n",
      "  n_iter_i = _check_optimize_result(\n",
      "c:\\Users\\dolid\\AppData\\Local\\Programs\\Python\\Python310\\lib\\site-packages\\sklearn\\linear_model\\_logistic.py:814: ConvergenceWarning: lbfgs failed to converge (status=1):\n",
      "STOP: TOTAL NO. of ITERATIONS REACHED LIMIT.\n",
      "\n",
      "Increase the number of iterations (max_iter) or scale the data as shown in:\n",
      "    https://scikit-learn.org/stable/modules/preprocessing.html\n",
      "Please also refer to the documentation for alternative solver options:\n",
      "    https://scikit-learn.org/stable/modules/linear_model.html#logistic-regression\n",
      "  n_iter_i = _check_optimize_result(\n",
      "c:\\Users\\dolid\\AppData\\Local\\Programs\\Python\\Python310\\lib\\site-packages\\sklearn\\linear_model\\_logistic.py:814: ConvergenceWarning: lbfgs failed to converge (status=1):\n",
      "STOP: TOTAL NO. of ITERATIONS REACHED LIMIT.\n",
      "\n",
      "Increase the number of iterations (max_iter) or scale the data as shown in:\n",
      "    https://scikit-learn.org/stable/modules/preprocessing.html\n",
      "Please also refer to the documentation for alternative solver options:\n",
      "    https://scikit-learn.org/stable/modules/linear_model.html#logistic-regression\n",
      "  n_iter_i = _check_optimize_result(\n",
      "c:\\Users\\dolid\\AppData\\Local\\Programs\\Python\\Python310\\lib\\site-packages\\sklearn\\linear_model\\_logistic.py:814: ConvergenceWarning: lbfgs failed to converge (status=1):\n",
      "STOP: TOTAL NO. of ITERATIONS REACHED LIMIT.\n",
      "\n",
      "Increase the number of iterations (max_iter) or scale the data as shown in:\n",
      "    https://scikit-learn.org/stable/modules/preprocessing.html\n",
      "Please also refer to the documentation for alternative solver options:\n",
      "    https://scikit-learn.org/stable/modules/linear_model.html#logistic-regression\n",
      "  n_iter_i = _check_optimize_result(\n",
      "c:\\Users\\dolid\\AppData\\Local\\Programs\\Python\\Python310\\lib\\site-packages\\sklearn\\linear_model\\_logistic.py:814: ConvergenceWarning: lbfgs failed to converge (status=1):\n",
      "STOP: TOTAL NO. of ITERATIONS REACHED LIMIT.\n",
      "\n",
      "Increase the number of iterations (max_iter) or scale the data as shown in:\n",
      "    https://scikit-learn.org/stable/modules/preprocessing.html\n",
      "Please also refer to the documentation for alternative solver options:\n",
      "    https://scikit-learn.org/stable/modules/linear_model.html#logistic-regression\n",
      "  n_iter_i = _check_optimize_result(\n",
      "c:\\Users\\dolid\\AppData\\Local\\Programs\\Python\\Python310\\lib\\site-packages\\sklearn\\linear_model\\_logistic.py:814: ConvergenceWarning: lbfgs failed to converge (status=1):\n",
      "STOP: TOTAL NO. of ITERATIONS REACHED LIMIT.\n",
      "\n",
      "Increase the number of iterations (max_iter) or scale the data as shown in:\n",
      "    https://scikit-learn.org/stable/modules/preprocessing.html\n",
      "Please also refer to the documentation for alternative solver options:\n",
      "    https://scikit-learn.org/stable/modules/linear_model.html#logistic-regression\n",
      "  n_iter_i = _check_optimize_result(\n",
      "c:\\Users\\dolid\\AppData\\Local\\Programs\\Python\\Python310\\lib\\site-packages\\sklearn\\linear_model\\_logistic.py:814: ConvergenceWarning: lbfgs failed to converge (status=1):\n",
      "STOP: TOTAL NO. of ITERATIONS REACHED LIMIT.\n",
      "\n",
      "Increase the number of iterations (max_iter) or scale the data as shown in:\n",
      "    https://scikit-learn.org/stable/modules/preprocessing.html\n",
      "Please also refer to the documentation for alternative solver options:\n",
      "    https://scikit-learn.org/stable/modules/linear_model.html#logistic-regression\n",
      "  n_iter_i = _check_optimize_result(\n",
      "c:\\Users\\dolid\\AppData\\Local\\Programs\\Python\\Python310\\lib\\site-packages\\sklearn\\linear_model\\_logistic.py:814: ConvergenceWarning: lbfgs failed to converge (status=1):\n",
      "STOP: TOTAL NO. of ITERATIONS REACHED LIMIT.\n",
      "\n",
      "Increase the number of iterations (max_iter) or scale the data as shown in:\n",
      "    https://scikit-learn.org/stable/modules/preprocessing.html\n",
      "Please also refer to the documentation for alternative solver options:\n",
      "    https://scikit-learn.org/stable/modules/linear_model.html#logistic-regression\n",
      "  n_iter_i = _check_optimize_result(\n",
      "c:\\Users\\dolid\\AppData\\Local\\Programs\\Python\\Python310\\lib\\site-packages\\sklearn\\linear_model\\_logistic.py:814: ConvergenceWarning: lbfgs failed to converge (status=1):\n",
      "STOP: TOTAL NO. of ITERATIONS REACHED LIMIT.\n",
      "\n",
      "Increase the number of iterations (max_iter) or scale the data as shown in:\n",
      "    https://scikit-learn.org/stable/modules/preprocessing.html\n",
      "Please also refer to the documentation for alternative solver options:\n",
      "    https://scikit-learn.org/stable/modules/linear_model.html#logistic-regression\n",
      "  n_iter_i = _check_optimize_result(\n",
      "c:\\Users\\dolid\\AppData\\Local\\Programs\\Python\\Python310\\lib\\site-packages\\sklearn\\linear_model\\_logistic.py:814: ConvergenceWarning: lbfgs failed to converge (status=1):\n",
      "STOP: TOTAL NO. of ITERATIONS REACHED LIMIT.\n",
      "\n",
      "Increase the number of iterations (max_iter) or scale the data as shown in:\n",
      "    https://scikit-learn.org/stable/modules/preprocessing.html\n",
      "Please also refer to the documentation for alternative solver options:\n",
      "    https://scikit-learn.org/stable/modules/linear_model.html#logistic-regression\n",
      "  n_iter_i = _check_optimize_result(\n",
      "c:\\Users\\dolid\\AppData\\Local\\Programs\\Python\\Python310\\lib\\site-packages\\sklearn\\linear_model\\_logistic.py:814: ConvergenceWarning: lbfgs failed to converge (status=1):\n",
      "STOP: TOTAL NO. of ITERATIONS REACHED LIMIT.\n",
      "\n",
      "Increase the number of iterations (max_iter) or scale the data as shown in:\n",
      "    https://scikit-learn.org/stable/modules/preprocessing.html\n",
      "Please also refer to the documentation for alternative solver options:\n",
      "    https://scikit-learn.org/stable/modules/linear_model.html#logistic-regression\n",
      "  n_iter_i = _check_optimize_result(\n",
      "c:\\Users\\dolid\\AppData\\Local\\Programs\\Python\\Python310\\lib\\site-packages\\sklearn\\linear_model\\_logistic.py:814: ConvergenceWarning: lbfgs failed to converge (status=1):\n",
      "STOP: TOTAL NO. of ITERATIONS REACHED LIMIT.\n",
      "\n",
      "Increase the number of iterations (max_iter) or scale the data as shown in:\n",
      "    https://scikit-learn.org/stable/modules/preprocessing.html\n",
      "Please also refer to the documentation for alternative solver options:\n",
      "    https://scikit-learn.org/stable/modules/linear_model.html#logistic-regression\n",
      "  n_iter_i = _check_optimize_result(\n",
      "c:\\Users\\dolid\\AppData\\Local\\Programs\\Python\\Python310\\lib\\site-packages\\sklearn\\linear_model\\_logistic.py:814: ConvergenceWarning: lbfgs failed to converge (status=1):\n",
      "STOP: TOTAL NO. of ITERATIONS REACHED LIMIT.\n",
      "\n",
      "Increase the number of iterations (max_iter) or scale the data as shown in:\n",
      "    https://scikit-learn.org/stable/modules/preprocessing.html\n",
      "Please also refer to the documentation for alternative solver options:\n",
      "    https://scikit-learn.org/stable/modules/linear_model.html#logistic-regression\n",
      "  n_iter_i = _check_optimize_result(\n",
      "c:\\Users\\dolid\\AppData\\Local\\Programs\\Python\\Python310\\lib\\site-packages\\sklearn\\linear_model\\_logistic.py:814: ConvergenceWarning: lbfgs failed to converge (status=1):\n",
      "STOP: TOTAL NO. of ITERATIONS REACHED LIMIT.\n",
      "\n",
      "Increase the number of iterations (max_iter) or scale the data as shown in:\n",
      "    https://scikit-learn.org/stable/modules/preprocessing.html\n",
      "Please also refer to the documentation for alternative solver options:\n",
      "    https://scikit-learn.org/stable/modules/linear_model.html#logistic-regression\n",
      "  n_iter_i = _check_optimize_result(\n",
      "c:\\Users\\dolid\\AppData\\Local\\Programs\\Python\\Python310\\lib\\site-packages\\sklearn\\linear_model\\_logistic.py:814: ConvergenceWarning: lbfgs failed to converge (status=1):\n",
      "STOP: TOTAL NO. of ITERATIONS REACHED LIMIT.\n",
      "\n",
      "Increase the number of iterations (max_iter) or scale the data as shown in:\n",
      "    https://scikit-learn.org/stable/modules/preprocessing.html\n",
      "Please also refer to the documentation for alternative solver options:\n",
      "    https://scikit-learn.org/stable/modules/linear_model.html#logistic-regression\n",
      "  n_iter_i = _check_optimize_result(\n",
      "c:\\Users\\dolid\\AppData\\Local\\Programs\\Python\\Python310\\lib\\site-packages\\sklearn\\linear_model\\_logistic.py:814: ConvergenceWarning: lbfgs failed to converge (status=1):\n",
      "STOP: TOTAL NO. of ITERATIONS REACHED LIMIT.\n",
      "\n",
      "Increase the number of iterations (max_iter) or scale the data as shown in:\n",
      "    https://scikit-learn.org/stable/modules/preprocessing.html\n",
      "Please also refer to the documentation for alternative solver options:\n",
      "    https://scikit-learn.org/stable/modules/linear_model.html#logistic-regression\n",
      "  n_iter_i = _check_optimize_result(\n",
      "c:\\Users\\dolid\\AppData\\Local\\Programs\\Python\\Python310\\lib\\site-packages\\sklearn\\linear_model\\_logistic.py:814: ConvergenceWarning: lbfgs failed to converge (status=1):\n",
      "STOP: TOTAL NO. of ITERATIONS REACHED LIMIT.\n",
      "\n",
      "Increase the number of iterations (max_iter) or scale the data as shown in:\n",
      "    https://scikit-learn.org/stable/modules/preprocessing.html\n",
      "Please also refer to the documentation for alternative solver options:\n",
      "    https://scikit-learn.org/stable/modules/linear_model.html#logistic-regression\n",
      "  n_iter_i = _check_optimize_result(\n"
     ]
    },
    {
     "data": {
      "text/plain": [
       "{'classifier__C': 0.01, 'preprocessing': StandardScaler()}"
      ]
     },
     "execution_count": 35,
     "metadata": {},
     "output_type": "execute_result"
    }
   ],
   "source": [
    "pipe = Pipeline([('preprocessing', StandardScaler()), ('classifier', LogisticRegression(class_weight='balanced'))])\n",
    "\n",
    "param_grid = {\n",
    "            'preprocessing': [StandardScaler(), None],\n",
    "            'classifier__C': [0.001, 0.01, 0.1, 1, 10, 100, 1000]\n",
    "}\n",
    "\n",
    "logistic_regression = GridSearchCV(pipe, param_grid, cv=kfold, return_train_score=True, scoring='f1')\n",
    "\n",
    "logistic_regression.fit(x_train, y_train)\n",
    "logistic_regression.best_params_"
   ]
  },
  {
   "cell_type": "markdown",
   "metadata": {},
   "source": [
    "## SVC - linear"
   ]
  },
  {
   "cell_type": "code",
   "execution_count": 54,
   "metadata": {},
   "outputs": [
    {
     "data": {
      "text/plain": [
       "{'classifier__C': 0.01, 'preprocessing': StandardScaler()}"
      ]
     },
     "execution_count": 54,
     "metadata": {},
     "output_type": "execute_result"
    }
   ],
   "source": [
    "pipe = Pipeline([('preprocessing', StandardScaler()), ('classifier', SVC(kernel='linear', class_weight='balanced'))])\n",
    "\n",
    "param_grid = {\n",
    "            'preprocessing': [StandardScaler(), None],\n",
    "            'classifier__C': [0.001, 0.01, 0.1, 1, 10, 100, 1000]\n",
    "}\n",
    "\n",
    "svc_linear = GridSearchCV(pipe, param_grid, cv=kfold, return_train_score=True, scoring='f1')\n",
    "\n",
    "svc_linear.fit(x_train, y_train)\n",
    "svc_linear.best_params_"
   ]
  },
  {
   "cell_type": "markdown",
   "metadata": {},
   "source": [
    "## SVC - rbf"
   ]
  },
  {
   "cell_type": "code",
   "execution_count": 55,
   "metadata": {},
   "outputs": [
    {
     "data": {
      "text/plain": [
       "{'classifier__C': 1, 'preprocessing': StandardScaler()}"
      ]
     },
     "execution_count": 55,
     "metadata": {},
     "output_type": "execute_result"
    }
   ],
   "source": [
    "pipe = Pipeline([('preprocessing', StandardScaler()), ('classifier', SVC(kernel='rbf', class_weight='balanced'))])\n",
    "\n",
    "param_grid = {\n",
    "            'preprocessing': [StandardScaler(), None],\n",
    "            'classifier__C': [0.001, 0.01, 0.1, 1, 10, 100, 1000]\n",
    "}\n",
    "\n",
    "svc_rbf = GridSearchCV(pipe, param_grid, cv=kfold, return_train_score=True, scoring='f1')\n",
    "\n",
    "svc_rbf.fit(x_train, y_train)\n",
    "svc_rbf.best_params_"
   ]
  },
  {
   "cell_type": "markdown",
   "metadata": {},
   "source": [
    "## SVC - poly"
   ]
  },
  {
   "cell_type": "code",
   "execution_count": 57,
   "metadata": {},
   "outputs": [
    {
     "data": {
      "text/plain": [
       "{'classifier__C': 0.1, 'preprocessing': StandardScaler()}"
      ]
     },
     "execution_count": 57,
     "metadata": {},
     "output_type": "execute_result"
    }
   ],
   "source": [
    "pipe = Pipeline([('preprocessing', StandardScaler()), ('classifier', SVC(kernel='poly', class_weight='balanced'))])\n",
    "\n",
    "param_grid = {\n",
    "            'preprocessing': [StandardScaler(), None],\n",
    "            'classifier__C': [0.001, 0.01, 0.1, 1, 10, 100, 1000]\n",
    "}\n",
    "\n",
    "svc_poly = GridSearchCV(pipe, param_grid, cv=kfold, return_train_score=True, scoring='f1')\n",
    "\n",
    "svc_poly.fit(x_train, y_train)\n",
    "svc_poly.best_params_"
   ]
  },
  {
   "cell_type": "markdown",
   "metadata": {},
   "source": [
    "## KNeighbors Classifier"
   ]
  },
  {
   "cell_type": "code",
   "execution_count": 42,
   "metadata": {},
   "outputs": [
    {
     "data": {
      "text/plain": [
       "{'classifier__n_neighbors': 4,\n",
       " 'classifier__p': 1,\n",
       " 'preprocessing': StandardScaler()}"
      ]
     },
     "execution_count": 42,
     "metadata": {},
     "output_type": "execute_result"
    }
   ],
   "source": [
    "pipe = Pipeline([('preprocessing', StandardScaler()), ('classifier', KNeighborsClassifier())])\n",
    "\n",
    "param_grid = {\n",
    "            'preprocessing': [StandardScaler(), None],\n",
    "            'classifier__n_neighbors': [1, 2, 3, 4],\n",
    "            'classifier__p': [1, 2, 3, 4],\n",
    "}\n",
    "\n",
    "k_neighbors = GridSearchCV(pipe, param_grid, cv=kfold, return_train_score=True, scoring='f1')\n",
    "\n",
    "k_neighbors.fit(x_train, y_train)\n",
    "k_neighbors.best_params_"
   ]
  },
  {
   "cell_type": "markdown",
   "metadata": {},
   "source": [
    "## Decision Tree Classifier"
   ]
  },
  {
   "cell_type": "code",
   "execution_count": 43,
   "metadata": {},
   "outputs": [
    {
     "data": {
      "text/plain": [
       "{'classifier__criterion': 'entropy',\n",
       " 'classifier__max_depth': 10,\n",
       " 'classifier__max_leaf_nodes': 20,\n",
       " 'preprocessing': StandardScaler()}"
      ]
     },
     "execution_count": 43,
     "metadata": {},
     "output_type": "execute_result"
    }
   ],
   "source": [
    "pipe = Pipeline([('preprocessing', StandardScaler()), ('classifier', DecisionTreeClassifier(class_weight='balanced'))])\n",
    "\n",
    "param_grid = {\n",
    "            'preprocessing': [StandardScaler(), None],\n",
    "            'classifier__max_depth': [1, 2, 5, 10, 15, 20],\n",
    "            'classifier__max_leaf_nodes': [20, 30, 40, 50, 75, 100],\n",
    "            'classifier__criterion': ['gini', 'entropy'],\n",
    "}\n",
    "\n",
    "decision_tree = GridSearchCV(pipe, param_grid, cv=kfold, return_train_score=True, scoring='f1')\n",
    "\n",
    "decision_tree.fit(x_train, y_train)\n",
    "decision_tree.best_params_"
   ]
  },
  {
   "cell_type": "markdown",
   "metadata": {},
   "source": [
    "## Random Forest Classifier"
   ]
  },
  {
   "cell_type": "code",
   "execution_count": 44,
   "metadata": {},
   "outputs": [
    {
     "data": {
      "text/plain": [
       "{'classifier__max_leaf_nodes': 32,\n",
       " 'classifier__n_estimators': 100,\n",
       " 'preprocessing': None}"
      ]
     },
     "execution_count": 44,
     "metadata": {},
     "output_type": "execute_result"
    }
   ],
   "source": [
    "pipe = Pipeline([('preprocessing', StandardScaler()), ('classifier', RandomForestClassifier(class_weight='balanced'))])\n",
    "\n",
    "param_grid = {\n",
    "            'preprocessing': [StandardScaler(), None],\n",
    "            'classifier__n_estimators' : [1, 3, 5, 10, 50, 100, 200],\n",
    "            'classifier__max_leaf_nodes' : [2, 4, 8, 16, 32, 64, 128],\n",
    "}\n",
    "\n",
    "random_forest = GridSearchCV(pipe, param_grid, cv=kfold, return_train_score=True, scoring='f1')\n",
    "\n",
    "random_forest.fit(x_train, y_train)\n",
    "random_forest.best_params_"
   ]
  },
  {
   "cell_type": "markdown",
   "metadata": {},
   "source": [
    "## Ada Boost Classifier"
   ]
  },
  {
   "cell_type": "code",
   "execution_count": 50,
   "metadata": {},
   "outputs": [
    {
     "data": {
      "text/plain": [
       "{'classifier__learning_rate': 0.1,\n",
       " 'classifier__n_estimators': 64,\n",
       " 'preprocessing': StandardScaler()}"
      ]
     },
     "execution_count": 50,
     "metadata": {},
     "output_type": "execute_result"
    }
   ],
   "source": [
    "pipe = Pipeline([('preprocessing', StandardScaler()), ('classifier', AdaBoostClassifier())])\n",
    "\n",
    "param_grid = {\n",
    "            'preprocessing': [StandardScaler(), None],\n",
    "            'classifier__n_estimators': [4, 8, 16, 32, 64, 128],\n",
    "            'classifier__learning_rate': [0.0001, 0.001, 0.01, 0.1, 1, 10],\n",
    "}\n",
    "\n",
    "ada_boost = GridSearchCV(pipe, param_grid, cv=kfold, return_train_score=True, scoring='f1')\n",
    "\n",
    "ada_boost.fit(x_train, y_train)\n",
    "ada_boost.best_params_"
   ]
  },
  {
   "cell_type": "markdown",
   "metadata": {},
   "source": [
    "## Bagging Classifier"
   ]
  },
  {
   "cell_type": "code",
   "execution_count": 51,
   "metadata": {},
   "outputs": [
    {
     "name": "stderr",
     "output_type": "stream",
     "text": [
      "c:\\Users\\dolid\\AppData\\Local\\Programs\\Python\\Python310\\lib\\site-packages\\sklearn\\model_selection\\_validation.py:372: FitFailedWarning: \n",
      "60 fits failed out of a total of 360.\n",
      "The score on these train-test partitions for these parameters will be set to nan.\n",
      "If these failures are not expected, you can try to debug them by setting error_score='raise'.\n",
      "\n",
      "Below are more details about the failures:\n",
      "--------------------------------------------------------------------------------\n",
      "60 fits failed with the following error:\n",
      "Traceback (most recent call last):\n",
      "  File \"c:\\Users\\dolid\\AppData\\Local\\Programs\\Python\\Python310\\lib\\site-packages\\sklearn\\model_selection\\_validation.py\", line 680, in _fit_and_score\n",
      "    estimator.fit(X_train, y_train, **fit_params)\n",
      "  File \"c:\\Users\\dolid\\AppData\\Local\\Programs\\Python\\Python310\\lib\\site-packages\\sklearn\\pipeline.py\", line 394, in fit\n",
      "    self._final_estimator.fit(Xt, y, **fit_params_last_step)\n",
      "  File \"c:\\Users\\dolid\\AppData\\Local\\Programs\\Python\\Python310\\lib\\site-packages\\sklearn\\ensemble\\_bagging.py\", line 269, in fit\n",
      "    return self._fit(X, y, self.max_samples, sample_weight=sample_weight)\n",
      "  File \"c:\\Users\\dolid\\AppData\\Local\\Programs\\Python\\Python310\\lib\\site-packages\\sklearn\\ensemble\\_bagging.py\", line 328, in _fit\n",
      "    raise ValueError(\"max_samples must be in (0, n_samples]\")\n",
      "ValueError: max_samples must be in (0, n_samples]\n",
      "\n",
      "  warnings.warn(some_fits_failed_message, FitFailedWarning)\n",
      "c:\\Users\\dolid\\AppData\\Local\\Programs\\Python\\Python310\\lib\\site-packages\\sklearn\\model_selection\\_search.py:969: UserWarning: One or more of the test scores are non-finite: [0.15064935 0.15064935 0.12394366 0.15064935 0.27031963 0.40792635\n",
      " 0.26092996 0.15064935 0.695562   0.3942633  0.695562   0.5585757\n",
      " 0.73219716 0.66930312 0.77873683 0.77652007 0.80818149 0.78201851\n",
      " 0.80659237 0.83341022 0.8473677  0.82797713 0.85099725 0.82961471\n",
      " 0.74836153 0.75499324 0.76734757 0.82987388 0.81915382 0.81565165\n",
      " 0.8204249  0.84056327 0.84239905 0.83742906 0.84413732 0.85395903\n",
      " 0.68738752 0.71014592 0.76566088 0.79354453 0.79717967 0.82755869\n",
      " 0.84344294 0.82042791 0.82521491 0.85514116 0.85804574 0.85964238\n",
      " 0.71913795 0.73275204 0.77148468 0.79162503 0.8069235  0.80673047\n",
      " 0.80255964 0.84654335 0.84328091 0.81909804 0.82820283 0.83338421\n",
      "        nan        nan        nan        nan        nan        nan\n",
      "        nan        nan        nan        nan        nan        nan]\n",
      "  warnings.warn(\n",
      "c:\\Users\\dolid\\AppData\\Local\\Programs\\Python\\Python310\\lib\\site-packages\\sklearn\\model_selection\\_search.py:969: UserWarning: One or more of the train scores are non-finite: [0.13651877 0.13651877 0.14314381 0.13651877 0.28100694 0.42060218\n",
      " 0.28321115 0.13651877 0.69718829 0.42415075 0.69718829 0.55712095\n",
      " 0.79241836 0.7272728  0.84058495 0.84269276 0.84652521 0.86664511\n",
      " 0.8874727  0.89159536 0.89607619 0.89608687 0.89966824 0.89338484\n",
      " 0.87121736 0.86821601 0.90890934 0.90738796 0.92233066 0.93332803\n",
      " 0.93303237 0.93904935 0.93423503 0.94092474 0.94415288 0.94170779\n",
      " 0.91270117 0.90865059 0.95621316 0.96258371 0.97076443 0.96812199\n",
      " 0.98169112 0.98155807 0.98551302 0.98544258 0.9911952  0.98947456\n",
      " 0.95550756 0.93597036 0.97964335 0.98232659 0.99613403 0.99224693\n",
      " 0.99613289 0.99803804 1.         0.99906103 1.         1.\n",
      "        nan        nan        nan        nan        nan        nan\n",
      "        nan        nan        nan        nan        nan        nan]\n",
      "  warnings.warn(\n"
     ]
    },
    {
     "data": {
      "text/plain": [
       "{'classifier__max_samples': 0.6,\n",
       " 'classifier__n_estimators': 128,\n",
       " 'preprocessing': None}"
      ]
     },
     "execution_count": 51,
     "metadata": {},
     "output_type": "execute_result"
    }
   ],
   "source": [
    "pipe = Pipeline([('preprocessing', StandardScaler()), ('classifier', BaggingClassifier())])\n",
    "\n",
    "param_grid = {\n",
    "            'preprocessing': [StandardScaler(), None],\n",
    "            'classifier__n_estimators': [4, 8, 16, 32, 64, 128],\n",
    "            'classifier__max_samples': [0.01, 0.1, 0.3, 0.6, 0.9, 1.2],\n",
    "}\n",
    "\n",
    "bagging = GridSearchCV(pipe, param_grid, cv=kfold, return_train_score=True, scoring='f1')\n",
    "\n",
    "bagging.fit(x_train, y_train)\n",
    "bagging.best_params_"
   ]
  },
  {
   "cell_type": "markdown",
   "metadata": {},
   "source": [
    "## Gradient Boosting Classifier"
   ]
  },
  {
   "cell_type": "code",
   "execution_count": 52,
   "metadata": {},
   "outputs": [
    {
     "data": {
      "text/plain": [
       "{'classifier__learning_rate': 0.1,\n",
       " 'classifier__n_estimators': 32,\n",
       " 'preprocessing': None}"
      ]
     },
     "execution_count": 52,
     "metadata": {},
     "output_type": "execute_result"
    }
   ],
   "source": [
    "pipe = Pipeline([('preprocessing', StandardScaler()), ('classifier', GradientBoostingClassifier())])\n",
    "\n",
    "param_grid = {\n",
    "            'preprocessing': [StandardScaler(), None],\n",
    "            'classifier__n_estimators': [4, 8, 16, 32, 64, 128],\n",
    "            'classifier__learning_rate': [0.001, 0.001, 0.01, 0.1, 1, 10],\n",
    "}\n",
    "\n",
    "gradient_boosting = GridSearchCV(pipe, param_grid, cv=kfold, return_train_score=True, scoring='f1')\n",
    "\n",
    "gradient_boosting.fit(x_train, y_train)\n",
    "gradient_boosting.best_params_"
   ]
  },
  {
   "cell_type": "markdown",
   "metadata": {},
   "source": [
    "# Porównanie modeli"
   ]
  },
  {
   "cell_type": "code",
   "execution_count": 69,
   "metadata": {},
   "outputs": [],
   "source": [
    "from sklearn import metrics\n",
    "\n",
    "models = []\n",
    "models.append(('Logistic Regression', logistic_regression.best_estimator_))\n",
    "models.append(('SVC - linear', svc_linear.best_estimator_))\n",
    "models.append(('SVC - rbf', svc_rbf.best_estimator_))\n",
    "models.append(('SVC - poly', svc_poly.best_estimator_))\n",
    "models.append(('KNeighbors', k_neighbors.best_estimator_))\n",
    "models.append(('Decision Tree', decision_tree.best_estimator_))\n",
    "models.append(('Random Forest', random_forest.best_estimator_))\n",
    "models.append(('Ada Boost', ada_boost.best_estimator_))\n",
    "models.append(('Bagging', bagging.best_estimator_))\n",
    "models.append(('Gradient Boosting', gradient_boosting.best_estimator_))\n",
    "\n",
    "names = []\n",
    "precision = []\n",
    "recall = []\n",
    "f1 = []\n",
    "accuracy = []\n",
    "roc_auc = []\n",
    "\n",
    "for name, model in models:\n",
    "    names.append(name)\n",
    "    precision.append(metrics.precision_score(y_test, model.predict(x_test)))\n",
    "    recall.append(metrics.recall_score(y_test , model.predict(x_test)))\n",
    "    f1.append( metrics.f1_score(y_test , model.predict(x_test)))\n",
    "    accuracy.append(metrics.accuracy_score(y_test , model.predict(x_test)))\n",
    "    roc_auc.append(metrics.roc_auc_score(y_test , model.predict(x_test)))"
   ]
  },
  {
   "cell_type": "code",
   "execution_count": 70,
   "metadata": {},
   "outputs": [
    {
     "data": {
      "text/html": [
       "<div>\n",
       "<style scoped>\n",
       "    .dataframe tbody tr th:only-of-type {\n",
       "        vertical-align: middle;\n",
       "    }\n",
       "\n",
       "    .dataframe tbody tr th {\n",
       "        vertical-align: top;\n",
       "    }\n",
       "\n",
       "    .dataframe thead th {\n",
       "        text-align: right;\n",
       "    }\n",
       "</style>\n",
       "<table border=\"1\" class=\"dataframe\">\n",
       "  <thead>\n",
       "    <tr style=\"text-align: right;\">\n",
       "      <th></th>\n",
       "      <th>Model</th>\n",
       "      <th>precision</th>\n",
       "      <th>recall</th>\n",
       "      <th>f1</th>\n",
       "      <th>accuracy</th>\n",
       "      <th>roc_auc</th>\n",
       "    </tr>\n",
       "  </thead>\n",
       "  <tbody>\n",
       "    <tr>\n",
       "      <th>0</th>\n",
       "      <td>Logistic Regression</td>\n",
       "      <td>0.704545</td>\n",
       "      <td>0.885714</td>\n",
       "      <td>0.784810</td>\n",
       "      <td>0.721311</td>\n",
       "      <td>0.692857</td>\n",
       "    </tr>\n",
       "    <tr>\n",
       "      <th>1</th>\n",
       "      <td>SVC - linear</td>\n",
       "      <td>0.711111</td>\n",
       "      <td>0.914286</td>\n",
       "      <td>0.800000</td>\n",
       "      <td>0.737705</td>\n",
       "      <td>0.707143</td>\n",
       "    </tr>\n",
       "    <tr>\n",
       "      <th>2</th>\n",
       "      <td>SVC - rbf</td>\n",
       "      <td>0.707317</td>\n",
       "      <td>0.828571</td>\n",
       "      <td>0.763158</td>\n",
       "      <td>0.704918</td>\n",
       "      <td>0.683516</td>\n",
       "    </tr>\n",
       "    <tr>\n",
       "      <th>3</th>\n",
       "      <td>SVC - poly</td>\n",
       "      <td>0.673469</td>\n",
       "      <td>0.942857</td>\n",
       "      <td>0.785714</td>\n",
       "      <td>0.704918</td>\n",
       "      <td>0.663736</td>\n",
       "    </tr>\n",
       "    <tr>\n",
       "      <th>4</th>\n",
       "      <td>KNeighbors</td>\n",
       "      <td>0.717949</td>\n",
       "      <td>0.800000</td>\n",
       "      <td>0.756757</td>\n",
       "      <td>0.704918</td>\n",
       "      <td>0.688462</td>\n",
       "    </tr>\n",
       "    <tr>\n",
       "      <th>5</th>\n",
       "      <td>Decision Tree</td>\n",
       "      <td>0.710526</td>\n",
       "      <td>0.771429</td>\n",
       "      <td>0.739726</td>\n",
       "      <td>0.688525</td>\n",
       "      <td>0.674176</td>\n",
       "    </tr>\n",
       "    <tr>\n",
       "      <th>6</th>\n",
       "      <td>Random Forest</td>\n",
       "      <td>0.659091</td>\n",
       "      <td>0.828571</td>\n",
       "      <td>0.734177</td>\n",
       "      <td>0.655738</td>\n",
       "      <td>0.625824</td>\n",
       "    </tr>\n",
       "    <tr>\n",
       "      <th>7</th>\n",
       "      <td>Ada Boost</td>\n",
       "      <td>0.714286</td>\n",
       "      <td>0.857143</td>\n",
       "      <td>0.779221</td>\n",
       "      <td>0.721311</td>\n",
       "      <td>0.697802</td>\n",
       "    </tr>\n",
       "    <tr>\n",
       "      <th>8</th>\n",
       "      <td>Bagging</td>\n",
       "      <td>0.725000</td>\n",
       "      <td>0.828571</td>\n",
       "      <td>0.773333</td>\n",
       "      <td>0.721311</td>\n",
       "      <td>0.702747</td>\n",
       "    </tr>\n",
       "    <tr>\n",
       "      <th>9</th>\n",
       "      <td>Gradient Boosting</td>\n",
       "      <td>0.725000</td>\n",
       "      <td>0.828571</td>\n",
       "      <td>0.773333</td>\n",
       "      <td>0.721311</td>\n",
       "      <td>0.702747</td>\n",
       "    </tr>\n",
       "  </tbody>\n",
       "</table>\n",
       "</div>"
      ],
      "text/plain": [
       "                 Model  precision    recall        f1  accuracy   roc_auc\n",
       "0  Logistic Regression   0.704545  0.885714  0.784810  0.721311  0.692857\n",
       "1         SVC - linear   0.711111  0.914286  0.800000  0.737705  0.707143\n",
       "2            SVC - rbf   0.707317  0.828571  0.763158  0.704918  0.683516\n",
       "3           SVC - poly   0.673469  0.942857  0.785714  0.704918  0.663736\n",
       "4           KNeighbors   0.717949  0.800000  0.756757  0.704918  0.688462\n",
       "5        Decision Tree   0.710526  0.771429  0.739726  0.688525  0.674176\n",
       "6        Random Forest   0.659091  0.828571  0.734177  0.655738  0.625824\n",
       "7            Ada Boost   0.714286  0.857143  0.779221  0.721311  0.697802\n",
       "8              Bagging   0.725000  0.828571  0.773333  0.721311  0.702747\n",
       "9    Gradient Boosting   0.725000  0.828571  0.773333  0.721311  0.702747"
      ]
     },
     "execution_count": 70,
     "metadata": {},
     "output_type": "execute_result"
    }
   ],
   "source": [
    "d = {\n",
    "    'precision': precision, \n",
    "    'recall': recall, \n",
    "    'f1': f1,\n",
    "    'accuracy' : accuracy,\n",
    "    'roc_auc': roc_auc\n",
    "}\n",
    "\n",
    "df = pd.DataFrame(data=d)\n",
    "df.insert(loc=0, column='Model', value=names)\n",
    "df"
   ]
  },
  {
   "cell_type": "code",
   "execution_count": 72,
   "metadata": {},
   "outputs": [
    {
     "name": "stderr",
     "output_type": "stream",
     "text": [
      "C:\\Users\\dolid\\AppData\\Local\\Temp\\ipykernel_15636\\2755918186.py:24: UserWarning: Matplotlib is currently using module://matplotlib_inline.backend_inline, which is a non-GUI backend, so cannot show the figure.\n",
      "  fig.show()\n"
     ]
    },
    {
     "data": {
      "image/png": "[encoded data removed]",
      "text/plain": [
       "<Figure size 1800x1080 with 22 Axes>"
      ]
     },
     "metadata": {
      "needs_background": "light"
     },
     "output_type": "display_data"
    }
   ],
   "source": [
    "from sklearn.metrics import confusion_matrix\n",
    "\n",
    "fig, axs = plt.subplots(3, 4, figsize=(25,15))\n",
    "\n",
    "i = 0\n",
    "j = 0\n",
    "cmap = sns.diverging_palette(220, 10, as_cmap=True)\n",
    "\n",
    "for name, model in models:\n",
    "  cm = confusion_matrix(y_test, model.predict(x_test))\n",
    "  sns.heatmap(cm,annot=True,linewidths=0.5,linecolor=\"red\",cmap=cmap,fmt=\".0f\",ax=axs[i,j])\n",
    "  axs[i,j].set_title(name)\n",
    "  j=j+1\n",
    "  if j == 4:\n",
    "    i=i+1\n",
    "    j=0\n",
    "\n",
    "for ax in axs.flat:\n",
    "    ax.set(xlabel='y_pred', ylabel='y_true')\n",
    "    ax.label_outer()\n",
    "\n",
    "fig.tight_layout(pad=3.0)\n",
    "fig.suptitle(\"Confusion Matrixes\", fontsize=20, verticalalignment='bottom')\n",
    "fig.show()"
   ]
  },
  {
   "cell_type": "markdown",
   "metadata": {},
   "source": [
    "# Keras"
   ]
  },
  {
   "cell_type": "code",
   "execution_count": 16,
   "metadata": {},
   "outputs": [],
   "source": [
    "import tensorflow as tf\n",
    "from tensorflow import keras\n",
    "from keras.models import Sequential\n",
    "from keras.layers import Dense\n",
    "from keras.callbacks import History"
   ]
  },
  {
   "cell_type": "code",
   "execution_count": 17,
   "metadata": {},
   "outputs": [
    {
     "name": "stdout",
     "output_type": "stream",
     "text": [
      "Model: \"sequential_2\"\n",
      "_________________________________________________________________\n",
      " Layer (type)                Output Shape              Param #   \n",
      "=================================================================\n",
      " dense_8 (Dense)             (None, 200)               2800      \n",
      "                                                                 \n",
      " dense_9 (Dense)             (None, 100)               20100     \n",
      "                                                                 \n",
      " dense_10 (Dense)            (None, 50)                5050      \n",
      "                                                                 \n",
      " dense_11 (Dense)            (None, 1)                 51        \n",
      "                                                                 \n",
      "=================================================================\n",
      "Total params: 28,001\n",
      "Trainable params: 28,001\n",
      "Non-trainable params: 0\n",
      "_________________________________________________________________\n"
     ]
    }
   ],
   "source": [
    "history = History()\n",
    "keras_model = Sequential()\n",
    "keras_model.add(Dense(200, activation='relu', input_shape=(x_train.shape[1],)))\n",
    "keras_model.add(Dense(100, activation='relu'))\n",
    "keras_model.add(Dense(50, activation='sigmoid'))\n",
    "keras_model.add(Dense(1, activation='sigmoid'))\n",
    "keras_model.summary()"
   ]
  },
  {
   "cell_type": "code",
   "execution_count": 18,
   "metadata": {},
   "outputs": [],
   "source": [
    "keras_model.compile(loss='binary_crossentropy', optimizer='Adam', metrics=['accuracy'])"
   ]
  },
  {
   "cell_type": "code",
   "execution_count": 19,
   "metadata": {},
   "outputs": [],
   "source": [
    "x_train_keras, x_val, y_train_keras, y_val = train_test_split(x_train, y_train, test_size=0.2, random_state=0)"
   ]
  },
  {
   "cell_type": "code",
   "execution_count": 20,
   "metadata": {},
   "outputs": [
    {
     "name": "stdout",
     "output_type": "stream",
     "text": [
      "Epoch 1/150\n",
      "11/11 [==============================] - 0s 12ms/step - loss: 0.6585 - accuracy: 0.6174 - val_loss: 0.6417 - val_accuracy: 0.6585\n",
      "Epoch 2/150\n",
      "11/11 [==============================] - 0s 3ms/step - loss: 0.6291 - accuracy: 0.6646 - val_loss: 0.6305 - val_accuracy: 0.6585\n",
      "Epoch 3/150\n",
      "11/11 [==============================] - 0s 4ms/step - loss: 0.6250 - accuracy: 0.6692 - val_loss: 0.6532 - val_accuracy: 0.6098\n",
      "Epoch 4/150\n",
      "11/11 [==============================] - 0s 4ms/step - loss: 0.6383 - accuracy: 0.6296 - val_loss: 0.6172 - val_accuracy: 0.6890\n",
      "Epoch 5/150\n",
      "11/11 [==============================] - 0s 3ms/step - loss: 0.6009 - accuracy: 0.6860 - val_loss: 0.6072 - val_accuracy: 0.6280\n",
      "Epoch 6/150\n",
      "11/11 [==============================] - 0s 3ms/step - loss: 0.6162 - accuracy: 0.6387 - val_loss: 0.6009 - val_accuracy: 0.7012\n",
      "Epoch 7/150\n",
      "11/11 [==============================] - 0s 4ms/step - loss: 0.5985 - accuracy: 0.6921 - val_loss: 0.6130 - val_accuracy: 0.6829\n",
      "Epoch 8/150\n",
      "11/11 [==============================] - 0s 3ms/step - loss: 0.5928 - accuracy: 0.6936 - val_loss: 0.5972 - val_accuracy: 0.7073\n",
      "Epoch 9/150\n",
      "11/11 [==============================] - 0s 4ms/step - loss: 0.5848 - accuracy: 0.6997 - val_loss: 0.6214 - val_accuracy: 0.6707\n",
      "Epoch 10/150\n",
      "11/11 [==============================] - 0s 3ms/step - loss: 0.5917 - accuracy: 0.6890 - val_loss: 0.5949 - val_accuracy: 0.6890\n",
      "Epoch 11/150\n",
      "11/11 [==============================] - 0s 4ms/step - loss: 0.5959 - accuracy: 0.6799 - val_loss: 0.6003 - val_accuracy: 0.6890\n",
      "Epoch 12/150\n",
      "11/11 [==============================] - 0s 3ms/step - loss: 0.5804 - accuracy: 0.6997 - val_loss: 0.5872 - val_accuracy: 0.7073\n",
      "Epoch 13/150\n",
      "11/11 [==============================] - 0s 3ms/step - loss: 0.5889 - accuracy: 0.6997 - val_loss: 0.5781 - val_accuracy: 0.7256\n",
      "Epoch 14/150\n",
      "11/11 [==============================] - 0s 4ms/step - loss: 0.5891 - accuracy: 0.6951 - val_loss: 0.6178 - val_accuracy: 0.6646\n",
      "Epoch 15/150\n",
      "11/11 [==============================] - 0s 4ms/step - loss: 0.5770 - accuracy: 0.6814 - val_loss: 0.5803 - val_accuracy: 0.7134\n",
      "Epoch 16/150\n",
      "11/11 [==============================] - 0s 3ms/step - loss: 0.5745 - accuracy: 0.7027 - val_loss: 0.5790 - val_accuracy: 0.7195\n",
      "Epoch 17/150\n",
      "11/11 [==============================] - 0s 3ms/step - loss: 0.5655 - accuracy: 0.7134 - val_loss: 0.5670 - val_accuracy: 0.6768\n",
      "Epoch 18/150\n",
      "11/11 [==============================] - 0s 4ms/step - loss: 0.5897 - accuracy: 0.6860 - val_loss: 0.5859 - val_accuracy: 0.7012\n",
      "Epoch 19/150\n",
      "11/11 [==============================] - 0s 3ms/step - loss: 0.5732 - accuracy: 0.6936 - val_loss: 0.5745 - val_accuracy: 0.6768\n",
      "Epoch 20/150\n",
      "11/11 [==============================] - 0s 3ms/step - loss: 0.5671 - accuracy: 0.7027 - val_loss: 0.5755 - val_accuracy: 0.7073\n",
      "Epoch 21/150\n",
      "11/11 [==============================] - 0s 3ms/step - loss: 0.5660 - accuracy: 0.7027 - val_loss: 0.5605 - val_accuracy: 0.7134\n",
      "Epoch 22/150\n",
      "11/11 [==============================] - 0s 4ms/step - loss: 0.5576 - accuracy: 0.7210 - val_loss: 0.5638 - val_accuracy: 0.7256\n",
      "Epoch 23/150\n",
      "11/11 [==============================] - 0s 3ms/step - loss: 0.5498 - accuracy: 0.6997 - val_loss: 0.5471 - val_accuracy: 0.7256\n",
      "Epoch 24/150\n",
      "11/11 [==============================] - 0s 3ms/step - loss: 0.5477 - accuracy: 0.7165 - val_loss: 0.5551 - val_accuracy: 0.6951\n",
      "Epoch 25/150\n",
      "11/11 [==============================] - 0s 4ms/step - loss: 0.5435 - accuracy: 0.7149 - val_loss: 0.5689 - val_accuracy: 0.6890\n",
      "Epoch 26/150\n",
      "11/11 [==============================] - 0s 4ms/step - loss: 0.5426 - accuracy: 0.7241 - val_loss: 0.5386 - val_accuracy: 0.7378\n",
      "Epoch 27/150\n",
      "11/11 [==============================] - 0s 4ms/step - loss: 0.5349 - accuracy: 0.7332 - val_loss: 0.5321 - val_accuracy: 0.7439\n",
      "Epoch 28/150\n",
      "11/11 [==============================] - 0s 3ms/step - loss: 0.5444 - accuracy: 0.7149 - val_loss: 0.5400 - val_accuracy: 0.7134\n",
      "Epoch 29/150\n",
      "11/11 [==============================] - 0s 3ms/step - loss: 0.5279 - accuracy: 0.7271 - val_loss: 0.5141 - val_accuracy: 0.7256\n",
      "Epoch 30/150\n",
      "11/11 [==============================] - 0s 3ms/step - loss: 0.5211 - accuracy: 0.7363 - val_loss: 0.5449 - val_accuracy: 0.7012\n",
      "Epoch 31/150\n",
      "11/11 [==============================] - 0s 3ms/step - loss: 0.5270 - accuracy: 0.7348 - val_loss: 0.5367 - val_accuracy: 0.7317\n",
      "Epoch 32/150\n",
      "11/11 [==============================] - 0s 3ms/step - loss: 0.4923 - accuracy: 0.7622 - val_loss: 0.4980 - val_accuracy: 0.7500\n",
      "Epoch 33/150\n",
      "11/11 [==============================] - 0s 3ms/step - loss: 0.5060 - accuracy: 0.7470 - val_loss: 0.4855 - val_accuracy: 0.7561\n",
      "Epoch 34/150\n",
      "11/11 [==============================] - 0s 3ms/step - loss: 0.4939 - accuracy: 0.7622 - val_loss: 0.5367 - val_accuracy: 0.7500\n",
      "Epoch 35/150\n",
      "11/11 [==============================] - 0s 4ms/step - loss: 0.4746 - accuracy: 0.7744 - val_loss: 0.5156 - val_accuracy: 0.7683\n",
      "Epoch 36/150\n",
      "11/11 [==============================] - 0s 3ms/step - loss: 0.4642 - accuracy: 0.7881 - val_loss: 0.4724 - val_accuracy: 0.7561\n",
      "Epoch 37/150\n",
      "11/11 [==============================] - 0s 3ms/step - loss: 0.4454 - accuracy: 0.7896 - val_loss: 0.4706 - val_accuracy: 0.7683\n",
      "Epoch 38/150\n",
      "11/11 [==============================] - 0s 4ms/step - loss: 0.4217 - accuracy: 0.8186 - val_loss: 0.4352 - val_accuracy: 0.7866\n",
      "Epoch 39/150\n",
      "11/11 [==============================] - 0s 3ms/step - loss: 0.4464 - accuracy: 0.7973 - val_loss: 0.4394 - val_accuracy: 0.8110\n",
      "Epoch 40/150\n",
      "11/11 [==============================] - 0s 3ms/step - loss: 0.4203 - accuracy: 0.8125 - val_loss: 0.4419 - val_accuracy: 0.7988\n",
      "Epoch 41/150\n",
      "11/11 [==============================] - 0s 4ms/step - loss: 0.4514 - accuracy: 0.8034 - val_loss: 0.4352 - val_accuracy: 0.8110\n",
      "Epoch 42/150\n",
      "11/11 [==============================] - 0s 3ms/step - loss: 0.4112 - accuracy: 0.8232 - val_loss: 0.4171 - val_accuracy: 0.8049\n",
      "Epoch 43/150\n",
      "11/11 [==============================] - 0s 3ms/step - loss: 0.4054 - accuracy: 0.8201 - val_loss: 0.4223 - val_accuracy: 0.8232\n",
      "Epoch 44/150\n",
      "11/11 [==============================] - 0s 3ms/step - loss: 0.4138 - accuracy: 0.8277 - val_loss: 0.4181 - val_accuracy: 0.8110\n",
      "Epoch 45/150\n",
      "11/11 [==============================] - 0s 3ms/step - loss: 0.4005 - accuracy: 0.8216 - val_loss: 0.4297 - val_accuracy: 0.8110\n",
      "Epoch 46/150\n",
      "11/11 [==============================] - 0s 4ms/step - loss: 0.4461 - accuracy: 0.7912 - val_loss: 0.5024 - val_accuracy: 0.7561\n",
      "Epoch 47/150\n",
      "11/11 [==============================] - 0s 3ms/step - loss: 0.4382 - accuracy: 0.7942 - val_loss: 0.5279 - val_accuracy: 0.7561\n",
      "Epoch 48/150\n",
      "11/11 [==============================] - 0s 3ms/step - loss: 0.4628 - accuracy: 0.7744 - val_loss: 0.5421 - val_accuracy: 0.7256\n",
      "Epoch 49/150\n",
      "11/11 [==============================] - 0s 3ms/step - loss: 0.4524 - accuracy: 0.7973 - val_loss: 0.5354 - val_accuracy: 0.7683\n",
      "Epoch 50/150\n",
      "11/11 [==============================] - 0s 3ms/step - loss: 0.4364 - accuracy: 0.7973 - val_loss: 0.4122 - val_accuracy: 0.8110\n",
      "Epoch 51/150\n",
      "11/11 [==============================] - 0s 3ms/step - loss: 0.3956 - accuracy: 0.8293 - val_loss: 0.3930 - val_accuracy: 0.8293\n",
      "Epoch 52/150\n",
      "11/11 [==============================] - 0s 4ms/step - loss: 0.3927 - accuracy: 0.8308 - val_loss: 0.4148 - val_accuracy: 0.8049\n",
      "Epoch 53/150\n",
      "11/11 [==============================] - 0s 3ms/step - loss: 0.3993 - accuracy: 0.8338 - val_loss: 0.3934 - val_accuracy: 0.8171\n",
      "Epoch 54/150\n",
      "11/11 [==============================] - 0s 4ms/step - loss: 0.3817 - accuracy: 0.8399 - val_loss: 0.3874 - val_accuracy: 0.8171\n",
      "Epoch 55/150\n",
      "11/11 [==============================] - 0s 3ms/step - loss: 0.4275 - accuracy: 0.7988 - val_loss: 0.3906 - val_accuracy: 0.8110\n",
      "Epoch 56/150\n",
      "11/11 [==============================] - 0s 3ms/step - loss: 0.3847 - accuracy: 0.8399 - val_loss: 0.3794 - val_accuracy: 0.8171\n",
      "Epoch 57/150\n",
      "11/11 [==============================] - 0s 4ms/step - loss: 0.3661 - accuracy: 0.8567 - val_loss: 0.4485 - val_accuracy: 0.8110\n",
      "Epoch 58/150\n",
      "11/11 [==============================] - 0s 3ms/step - loss: 0.3911 - accuracy: 0.8110 - val_loss: 0.4144 - val_accuracy: 0.8232\n",
      "Epoch 59/150\n",
      "11/11 [==============================] - 0s 3ms/step - loss: 0.3622 - accuracy: 0.8582 - val_loss: 0.3720 - val_accuracy: 0.8293\n",
      "Epoch 60/150\n",
      "11/11 [==============================] - 0s 3ms/step - loss: 0.3576 - accuracy: 0.8506 - val_loss: 0.4006 - val_accuracy: 0.8232\n",
      "Epoch 61/150\n",
      "11/11 [==============================] - 0s 4ms/step - loss: 0.3714 - accuracy: 0.8491 - val_loss: 0.3694 - val_accuracy: 0.8537\n",
      "Epoch 62/150\n",
      "11/11 [==============================] - 0s 3ms/step - loss: 0.3786 - accuracy: 0.8323 - val_loss: 0.4410 - val_accuracy: 0.8232\n",
      "Epoch 63/150\n",
      "11/11 [==============================] - 0s 3ms/step - loss: 0.4132 - accuracy: 0.8216 - val_loss: 0.3768 - val_accuracy: 0.8293\n",
      "Epoch 64/150\n",
      "11/11 [==============================] - 0s 4ms/step - loss: 0.3536 - accuracy: 0.8567 - val_loss: 0.3754 - val_accuracy: 0.8537\n",
      "Epoch 65/150\n",
      "11/11 [==============================] - 0s 3ms/step - loss: 0.3498 - accuracy: 0.8537 - val_loss: 0.3658 - val_accuracy: 0.8354\n",
      "Epoch 66/150\n",
      "11/11 [==============================] - 0s 3ms/step - loss: 0.3449 - accuracy: 0.8628 - val_loss: 0.3558 - val_accuracy: 0.8476\n",
      "Epoch 67/150\n",
      "11/11 [==============================] - 0s 3ms/step - loss: 0.3378 - accuracy: 0.8598 - val_loss: 0.3763 - val_accuracy: 0.8293\n",
      "Epoch 68/150\n",
      "11/11 [==============================] - 0s 3ms/step - loss: 0.3412 - accuracy: 0.8582 - val_loss: 0.3562 - val_accuracy: 0.8537\n",
      "Epoch 69/150\n",
      "11/11 [==============================] - 0s 3ms/step - loss: 0.3298 - accuracy: 0.8598 - val_loss: 0.3520 - val_accuracy: 0.8293\n",
      "Epoch 70/150\n",
      "11/11 [==============================] - 0s 4ms/step - loss: 0.3323 - accuracy: 0.8613 - val_loss: 0.3706 - val_accuracy: 0.8232\n",
      "Epoch 71/150\n",
      "11/11 [==============================] - 0s 3ms/step - loss: 0.3483 - accuracy: 0.8628 - val_loss: 0.3656 - val_accuracy: 0.8293\n",
      "Epoch 72/150\n",
      "11/11 [==============================] - 0s 3ms/step - loss: 0.3307 - accuracy: 0.8598 - val_loss: 0.3881 - val_accuracy: 0.8232\n",
      "Epoch 73/150\n",
      "11/11 [==============================] - 0s 3ms/step - loss: 0.3533 - accuracy: 0.8415 - val_loss: 0.3569 - val_accuracy: 0.8354\n",
      "Epoch 74/150\n",
      "11/11 [==============================] - 0s 3ms/step - loss: 0.3754 - accuracy: 0.8399 - val_loss: 0.4295 - val_accuracy: 0.8171\n",
      "Epoch 75/150\n",
      "11/11 [==============================] - 0s 4ms/step - loss: 0.3821 - accuracy: 0.8247 - val_loss: 0.4042 - val_accuracy: 0.8232\n",
      "Epoch 76/150\n",
      "11/11 [==============================] - 0s 3ms/step - loss: 0.3574 - accuracy: 0.8369 - val_loss: 0.3577 - val_accuracy: 0.8354\n",
      "Epoch 77/150\n",
      "11/11 [==============================] - 0s 3ms/step - loss: 0.3273 - accuracy: 0.8643 - val_loss: 0.3946 - val_accuracy: 0.8354\n",
      "Epoch 78/150\n",
      "11/11 [==============================] - 0s 4ms/step - loss: 0.3286 - accuracy: 0.8598 - val_loss: 0.3411 - val_accuracy: 0.8476\n",
      "Epoch 79/150\n",
      "11/11 [==============================] - 0s 4ms/step - loss: 0.3253 - accuracy: 0.8643 - val_loss: 0.3626 - val_accuracy: 0.8293\n",
      "Epoch 80/150\n",
      "11/11 [==============================] - 0s 4ms/step - loss: 0.3253 - accuracy: 0.8720 - val_loss: 0.3366 - val_accuracy: 0.8476\n",
      "Epoch 81/150\n",
      "11/11 [==============================] - 0s 3ms/step - loss: 0.3268 - accuracy: 0.8674 - val_loss: 0.3678 - val_accuracy: 0.8476\n",
      "Epoch 82/150\n",
      "11/11 [==============================] - 0s 3ms/step - loss: 0.3437 - accuracy: 0.8521 - val_loss: 0.3685 - val_accuracy: 0.8232\n",
      "Epoch 83/150\n",
      "11/11 [==============================] - 0s 4ms/step - loss: 0.3677 - accuracy: 0.8338 - val_loss: 0.3691 - val_accuracy: 0.8537\n",
      "Epoch 84/150\n",
      "11/11 [==============================] - 0s 3ms/step - loss: 0.3818 - accuracy: 0.8308 - val_loss: 0.3867 - val_accuracy: 0.8415\n",
      "Epoch 85/150\n",
      "11/11 [==============================] - 0s 3ms/step - loss: 0.3576 - accuracy: 0.8247 - val_loss: 0.3933 - val_accuracy: 0.8415\n",
      "Epoch 86/150\n",
      "11/11 [==============================] - 0s 3ms/step - loss: 0.3655 - accuracy: 0.8323 - val_loss: 0.4479 - val_accuracy: 0.8110\n",
      "Epoch 87/150\n",
      "11/11 [==============================] - 0s 3ms/step - loss: 0.3455 - accuracy: 0.8567 - val_loss: 0.3615 - val_accuracy: 0.8476\n",
      "Epoch 88/150\n",
      "11/11 [==============================] - 0s 3ms/step - loss: 0.3164 - accuracy: 0.8613 - val_loss: 0.3350 - val_accuracy: 0.8476\n",
      "Epoch 89/150\n",
      "11/11 [==============================] - 0s 3ms/step - loss: 0.3330 - accuracy: 0.8643 - val_loss: 0.3430 - val_accuracy: 0.8537\n",
      "Epoch 90/150\n",
      "11/11 [==============================] - 0s 3ms/step - loss: 0.3349 - accuracy: 0.8369 - val_loss: 0.3470 - val_accuracy: 0.8293\n",
      "Epoch 91/150\n",
      "11/11 [==============================] - 0s 4ms/step - loss: 0.3242 - accuracy: 0.8598 - val_loss: 0.3662 - val_accuracy: 0.8476\n",
      "Epoch 92/150\n",
      "11/11 [==============================] - 0s 3ms/step - loss: 0.3140 - accuracy: 0.8796 - val_loss: 0.3329 - val_accuracy: 0.8354\n",
      "Epoch 93/150\n",
      "11/11 [==============================] - 0s 4ms/step - loss: 0.3160 - accuracy: 0.8598 - val_loss: 0.3262 - val_accuracy: 0.8476\n",
      "Epoch 94/150\n",
      "11/11 [==============================] - 0s 3ms/step - loss: 0.3063 - accuracy: 0.8643 - val_loss: 0.3239 - val_accuracy: 0.8598\n",
      "Epoch 95/150\n",
      "11/11 [==============================] - 0s 3ms/step - loss: 0.3054 - accuracy: 0.8765 - val_loss: 0.3263 - val_accuracy: 0.8598\n",
      "Epoch 96/150\n",
      "11/11 [==============================] - 0s 4ms/step - loss: 0.3057 - accuracy: 0.8659 - val_loss: 0.3632 - val_accuracy: 0.8476\n",
      "Epoch 97/150\n",
      "11/11 [==============================] - 0s 3ms/step - loss: 0.3173 - accuracy: 0.8659 - val_loss: 0.3509 - val_accuracy: 0.8354\n",
      "Epoch 98/150\n",
      "11/11 [==============================] - 0s 3ms/step - loss: 0.3110 - accuracy: 0.8674 - val_loss: 0.3202 - val_accuracy: 0.8720\n",
      "Epoch 99/150\n",
      "11/11 [==============================] - 0s 3ms/step - loss: 0.2957 - accuracy: 0.8720 - val_loss: 0.3281 - val_accuracy: 0.8598\n",
      "Epoch 100/150\n",
      "11/11 [==============================] - 0s 3ms/step - loss: 0.3304 - accuracy: 0.8537 - val_loss: 0.3935 - val_accuracy: 0.8171\n",
      "Epoch 101/150\n",
      "11/11 [==============================] - 0s 3ms/step - loss: 0.3199 - accuracy: 0.8674 - val_loss: 0.3505 - val_accuracy: 0.8598\n",
      "Epoch 102/150\n",
      "11/11 [==============================] - 0s 4ms/step - loss: 0.3264 - accuracy: 0.8659 - val_loss: 0.4412 - val_accuracy: 0.7927\n",
      "Epoch 103/150\n",
      "11/11 [==============================] - 0s 3ms/step - loss: 0.3296 - accuracy: 0.8613 - val_loss: 0.3367 - val_accuracy: 0.8415\n",
      "Epoch 104/150\n",
      "11/11 [==============================] - 0s 3ms/step - loss: 0.3248 - accuracy: 0.8628 - val_loss: 0.3388 - val_accuracy: 0.8354\n",
      "Epoch 105/150\n",
      "11/11 [==============================] - 0s 4ms/step - loss: 0.3215 - accuracy: 0.8567 - val_loss: 0.3436 - val_accuracy: 0.8354\n",
      "Epoch 106/150\n",
      "11/11 [==============================] - 0s 3ms/step - loss: 0.3444 - accuracy: 0.8613 - val_loss: 0.3462 - val_accuracy: 0.8293\n",
      "Epoch 107/150\n",
      "11/11 [==============================] - 0s 3ms/step - loss: 0.3419 - accuracy: 0.8460 - val_loss: 0.3311 - val_accuracy: 0.8537\n",
      "Epoch 108/150\n",
      "11/11 [==============================] - 0s 3ms/step - loss: 0.3341 - accuracy: 0.8521 - val_loss: 0.3974 - val_accuracy: 0.8171\n",
      "Epoch 109/150\n",
      "11/11 [==============================] - 0s 3ms/step - loss: 0.3329 - accuracy: 0.8552 - val_loss: 0.4949 - val_accuracy: 0.7683\n",
      "Epoch 110/150\n",
      "11/11 [==============================] - 0s 4ms/step - loss: 0.3273 - accuracy: 0.8552 - val_loss: 0.3394 - val_accuracy: 0.8476\n",
      "Epoch 111/150\n",
      "11/11 [==============================] - 0s 3ms/step - loss: 0.3150 - accuracy: 0.8582 - val_loss: 0.3450 - val_accuracy: 0.8354\n",
      "Epoch 112/150\n",
      "11/11 [==============================] - 0s 3ms/step - loss: 0.2893 - accuracy: 0.8872 - val_loss: 0.3235 - val_accuracy: 0.8659\n",
      "Epoch 113/150\n",
      "11/11 [==============================] - 0s 3ms/step - loss: 0.2920 - accuracy: 0.8704 - val_loss: 0.3383 - val_accuracy: 0.8598\n",
      "Epoch 114/150\n",
      "11/11 [==============================] - 0s 4ms/step - loss: 0.3081 - accuracy: 0.8659 - val_loss: 0.3930 - val_accuracy: 0.8354\n",
      "Epoch 115/150\n",
      "11/11 [==============================] - 0s 3ms/step - loss: 0.3135 - accuracy: 0.8598 - val_loss: 0.3367 - val_accuracy: 0.8537\n",
      "Epoch 116/150\n",
      "11/11 [==============================] - 0s 3ms/step - loss: 0.3062 - accuracy: 0.8704 - val_loss: 0.3165 - val_accuracy: 0.8841\n",
      "Epoch 117/150\n",
      "11/11 [==============================] - 0s 3ms/step - loss: 0.2980 - accuracy: 0.8720 - val_loss: 0.3199 - val_accuracy: 0.8841\n",
      "Epoch 118/150\n",
      "11/11 [==============================] - 0s 3ms/step - loss: 0.2887 - accuracy: 0.8765 - val_loss: 0.3351 - val_accuracy: 0.8537\n",
      "Epoch 119/150\n",
      "11/11 [==============================] - 0s 4ms/step - loss: 0.3000 - accuracy: 0.8674 - val_loss: 0.3426 - val_accuracy: 0.8598\n",
      "Epoch 120/150\n",
      "11/11 [==============================] - 0s 3ms/step - loss: 0.2943 - accuracy: 0.8704 - val_loss: 0.3635 - val_accuracy: 0.8476\n",
      "Epoch 121/150\n",
      "11/11 [==============================] - 0s 4ms/step - loss: 0.3157 - accuracy: 0.8567 - val_loss: 0.3372 - val_accuracy: 0.8720\n",
      "Epoch 122/150\n",
      "11/11 [==============================] - 0s 3ms/step - loss: 0.2941 - accuracy: 0.8643 - val_loss: 0.3847 - val_accuracy: 0.8354\n",
      "Epoch 123/150\n",
      "11/11 [==============================] - 0s 4ms/step - loss: 0.3189 - accuracy: 0.8582 - val_loss: 0.3212 - val_accuracy: 0.8780\n",
      "Epoch 124/150\n",
      "11/11 [==============================] - 0s 3ms/step - loss: 0.3157 - accuracy: 0.8430 - val_loss: 0.3467 - val_accuracy: 0.8293\n",
      "Epoch 125/150\n",
      "11/11 [==============================] - 0s 3ms/step - loss: 0.3070 - accuracy: 0.8598 - val_loss: 0.3567 - val_accuracy: 0.8293\n",
      "Epoch 126/150\n",
      "11/11 [==============================] - 0s 4ms/step - loss: 0.2979 - accuracy: 0.8750 - val_loss: 0.3345 - val_accuracy: 0.8415\n",
      "Epoch 127/150\n",
      "11/11 [==============================] - 0s 3ms/step - loss: 0.2936 - accuracy: 0.8750 - val_loss: 0.3335 - val_accuracy: 0.8476\n",
      "Epoch 128/150\n",
      "11/11 [==============================] - 0s 3ms/step - loss: 0.2773 - accuracy: 0.8765 - val_loss: 0.3141 - val_accuracy: 0.8841\n",
      "Epoch 129/150\n",
      "11/11 [==============================] - 0s 4ms/step - loss: 0.2778 - accuracy: 0.8720 - val_loss: 0.3227 - val_accuracy: 0.8537\n",
      "Epoch 130/150\n",
      "11/11 [==============================] - 0s 3ms/step - loss: 0.2829 - accuracy: 0.8720 - val_loss: 0.3297 - val_accuracy: 0.8598\n",
      "Epoch 131/150\n",
      "11/11 [==============================] - 0s 3ms/step - loss: 0.2879 - accuracy: 0.8735 - val_loss: 0.3299 - val_accuracy: 0.8598\n",
      "Epoch 132/150\n",
      "11/11 [==============================] - 0s 3ms/step - loss: 0.3005 - accuracy: 0.8628 - val_loss: 0.3198 - val_accuracy: 0.8598\n",
      "Epoch 133/150\n",
      "11/11 [==============================] - 0s 3ms/step - loss: 0.2854 - accuracy: 0.8674 - val_loss: 0.3380 - val_accuracy: 0.8598\n",
      "Epoch 134/150\n",
      "11/11 [==============================] - 0s 3ms/step - loss: 0.2709 - accuracy: 0.8811 - val_loss: 0.3457 - val_accuracy: 0.8537\n",
      "Epoch 135/150\n",
      "11/11 [==============================] - 0s 4ms/step - loss: 0.2883 - accuracy: 0.8613 - val_loss: 0.3139 - val_accuracy: 0.8720\n",
      "Epoch 136/150\n",
      "11/11 [==============================] - 0s 3ms/step - loss: 0.2845 - accuracy: 0.8765 - val_loss: 0.3271 - val_accuracy: 0.8598\n",
      "Epoch 137/150\n",
      "11/11 [==============================] - 0s 4ms/step - loss: 0.2865 - accuracy: 0.8674 - val_loss: 0.3256 - val_accuracy: 0.8598\n",
      "Epoch 138/150\n",
      "11/11 [==============================] - 0s 3ms/step - loss: 0.2759 - accuracy: 0.8765 - val_loss: 0.3109 - val_accuracy: 0.8720\n",
      "Epoch 139/150\n",
      "11/11 [==============================] - 0s 3ms/step - loss: 0.2746 - accuracy: 0.8765 - val_loss: 0.3065 - val_accuracy: 0.8720\n",
      "Epoch 140/150\n",
      "11/11 [==============================] - 0s 4ms/step - loss: 0.2668 - accuracy: 0.8841 - val_loss: 0.3090 - val_accuracy: 0.8841\n",
      "Epoch 141/150\n",
      "11/11 [==============================] - 0s 3ms/step - loss: 0.2666 - accuracy: 0.8750 - val_loss: 0.3085 - val_accuracy: 0.8780\n",
      "Epoch 142/150\n",
      "11/11 [==============================] - 0s 4ms/step - loss: 0.2565 - accuracy: 0.8902 - val_loss: 0.3045 - val_accuracy: 0.8598\n",
      "Epoch 143/150\n",
      "11/11 [==============================] - 0s 3ms/step - loss: 0.2625 - accuracy: 0.8796 - val_loss: 0.3138 - val_accuracy: 0.8780\n",
      "Epoch 144/150\n",
      "11/11 [==============================] - 0s 3ms/step - loss: 0.2557 - accuracy: 0.8872 - val_loss: 0.3180 - val_accuracy: 0.8598\n",
      "Epoch 145/150\n",
      "11/11 [==============================] - 0s 3ms/step - loss: 0.2584 - accuracy: 0.8780 - val_loss: 0.3101 - val_accuracy: 0.8659\n",
      "Epoch 146/150\n",
      "11/11 [==============================] - 0s 3ms/step - loss: 0.2698 - accuracy: 0.8841 - val_loss: 0.3061 - val_accuracy: 0.8841\n",
      "Epoch 147/150\n",
      "11/11 [==============================] - 0s 3ms/step - loss: 0.2616 - accuracy: 0.8826 - val_loss: 0.3113 - val_accuracy: 0.8659\n",
      "Epoch 148/150\n",
      "11/11 [==============================] - 0s 4ms/step - loss: 0.2607 - accuracy: 0.8841 - val_loss: 0.3136 - val_accuracy: 0.8841\n",
      "Epoch 149/150\n",
      "11/11 [==============================] - 0s 3ms/step - loss: 0.2701 - accuracy: 0.8704 - val_loss: 0.3145 - val_accuracy: 0.8780\n",
      "Epoch 150/150\n",
      "11/11 [==============================] - 0s 3ms/step - loss: 0.2722 - accuracy: 0.8887 - val_loss: 0.3080 - val_accuracy: 0.8780\n"
     ]
    }
   ],
   "source": [
    "history = keras_model.fit(x_train_keras, y_train_keras, validation_data=(x_val, y_val), batch_size=64, epochs=150)"
   ]
  },
  {
   "cell_type": "code",
   "execution_count": 21,
   "metadata": {},
   "outputs": [
    {
     "data": {
      "image/png": "[encoded data removed]",
      "text/plain": [
       "<Figure size 432x288 with 1 Axes>"
      ]
     },
     "metadata": {
      "needs_background": "light"
     },
     "output_type": "display_data"
    },
    {
     "data": {
      "image/png": "[encoded data removed]",
      "text/plain": [
       "<Figure size 432x288 with 1 Axes>"
      ]
     },
     "metadata": {
      "needs_background": "light"
     },
     "output_type": "display_data"
    }
   ],
   "source": [
    "plt.plot(history.history['accuracy'])\n",
    "plt.plot(history.history['val_accuracy'])\n",
    "plt.title('Model accuracy Vs Epochs')\n",
    "plt.ylabel('Accuracy')\n",
    "plt.xlabel('Epoch')\n",
    "plt.legend(['Train', 'Validation'], loc='upper left')\n",
    "plt.show()\n",
    "\n",
    "plt.plot(history.history['loss'])\n",
    "plt.plot(history.history['val_loss'])\n",
    "plt.title('Model loss Vs Loss')\n",
    "plt.ylabel('Loss')\n",
    "plt.xlabel('Epoch')\n",
    "plt.legend(['Train', 'Validation'], loc='upper left')\n",
    "plt.show()"
   ]
  }
 ],
 "metadata": {
  "interpreter": {
   "hash": "83e999492064baad292f971a45bc1c8d61cd8d24e97457e6bdaca1506a9c0ae6"
  },
  "kernelspec": {
   "display_name": "Python 3.10.0 64-bit",
   "language": "python",
   "name": "python3"
  },
  "language_info": {
   "codemirror_mode": {
    "name": "ipython",
    "version": 3
   },
   "file_extension": ".py",
   "mimetype": "text/x-python",
   "name": "python",
   "nbconvert_exporter": "python",
   "pygments_lexer": "ipython3",
   "version": "3.10.0"
  },
  "orig_nbformat": 4
 },
 "nbformat": 4,
 "nbformat_minor": 2
}
